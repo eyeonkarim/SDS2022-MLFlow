{
  "cells": [
    {
      "cell_type": "markdown",
      "metadata": {
        "id": "view-in-github",
        "colab_type": "text"
      },
      "source": [
        "<a href=\"https://colab.research.google.com/github/eyeonkarim/SDS2022-MLFlow/blob/main/LC3_MLFlow_Models_Regression_SwissHousing.ipynb\" target=\"_parent\"><img src=\"https://colab.research.google.com/assets/colab-badge.svg\" alt=\"Open In Colab\"/></a>"
      ]
    },
    {
      "cell_type": "markdown",
      "source": [
        "<center><a target=\"_blank\" href=\"https://www.sds2022.ch/\"><img src=\"https://drive.google.com/uc?id=1S7k7kTXs9qIylw3C7LA9rHkLycjlY8te\" width=\"500\" style=\"background:none; border:none; box-shadow:none;\" /></a> </center>\n",
        "\n",
        "<center><a target=\"_blank\" href=\"http://www.sit.academy\"><img src=\"https://drive.google.com/uc?id=1x9_jQgLhozCSWDSaOdVxKmxOEAe_OLgV\" width=\"250\" style=\"background:none; border:none; box-shadow:none;\" /></a> </center>\n",
        "\n",
        "_____\n",
        "\n",
        "<center> <h1> Live Coding  </h1> </center>\n",
        "\n",
        "<p style=\"margin-bottom:1cm;\"></p>\n",
        "\n",
        "_____\n",
        "\n",
        "<center>SIT Academy, 2022</center>\n",
        "\n"
      ],
      "metadata": {
        "id": "HriZMPLHjVe-"
      }
    },
    {
      "cell_type": "markdown",
      "source": [
        "\n",
        "# MLFlow Workshop - Sequence 3 - Models API\n",
        "\n",
        "MLflow Models offer a convention for packaging machine learning models in multiple `flavors`, and a variety of tools to help you deploy them. \n",
        "\n",
        "Each Model is saved as a directory containing arbitrary files and a descriptor file that lists several “flavors” the model can be used in. \n",
        "\n",
        "For example, a TensorFlow model can be loaded as a `TensorFlow DAG`, or as a `Python function` to apply to input data. MLflow provides tools to deploy many common model types to diverse platforms: for example, any model supporting the `Python function` flavor can be deployed to a Docker-based REST server, to cloud platforms such as Azure ML and AWS SageMaker, and as a user-defined function in Apache Spark for batch and streaming inference. \n",
        "\n",
        "If you output `MLflow Models` using the `Tracking API`, MLflow also automatically remembers which Project and run they came from.\n",
        "\n"
      ],
      "metadata": {
        "id": "VFRcPExhX3NI"
      }
    },
    {
      "cell_type": "markdown",
      "metadata": {
        "id": "rUEGicVSCb9-"
      },
      "source": [
        "# Install Dependencies"
      ]
    },
    {
      "cell_type": "code",
      "execution_count": null,
      "metadata": {
        "colab": {
          "base_uri": "https://localhost:8080/"
        },
        "id": "_Zlnha6HwfR7",
        "outputId": "3e9d78b3-10ee-4ee6-ad8e-a8203ae599e6"
      },
      "outputs": [
        {
          "name": "stdout",
          "output_type": "stream",
          "text": [
            "\u001b[K     |████████████████████████████████| 17.8 MB 317 kB/s \n",
            "\u001b[K     |████████████████████████████████| 209 kB 17.4 MB/s \n",
            "\u001b[K     |████████████████████████████████| 81 kB 2.2 MB/s \n",
            "\u001b[K     |████████████████████████████████| 79 kB 4.0 MB/s \n",
            "\u001b[K     |████████████████████████████████| 146 kB 46.1 MB/s \n",
            "\u001b[K     |████████████████████████████████| 596 kB 35.8 MB/s \n",
            "\u001b[K     |████████████████████████████████| 181 kB 51.4 MB/s \n",
            "\u001b[K     |████████████████████████████████| 54 kB 1.3 MB/s \n",
            "\u001b[K     |████████████████████████████████| 63 kB 1.4 MB/s \n",
            "\u001b[K     |████████████████████████████████| 78 kB 5.6 MB/s \n",
            "\u001b[?25h  Building wheel for databricks-cli (setup.py) ... \u001b[?25l\u001b[?25hdone\n"
          ]
        }
      ],
      "source": [
        "!pip install mlflow --quiet"
      ]
    },
    {
      "cell_type": "markdown",
      "metadata": {
        "id": "1DeOd4j8DGrf"
      },
      "source": [
        "# Load Dependencies"
      ]
    },
    {
      "cell_type": "code",
      "execution_count": null,
      "metadata": {
        "id": "7LmnKD3WDIf0"
      },
      "outputs": [],
      "source": [
        "import os\n",
        "import warnings\n",
        "import sys\n",
        "\n",
        "import pandas as pd\n",
        "import numpy as np"
      ]
    },
    {
      "cell_type": "code",
      "execution_count": null,
      "metadata": {
        "id": "fi_-nei_DM21"
      },
      "outputs": [],
      "source": [
        "from sklearn.metrics import mean_squared_error, mean_absolute_error, r2_score\n",
        "from sklearn.model_selection import train_test_split\n",
        "from sklearn.linear_model import ElasticNet\n",
        "from sklearn.ensemble import RandomForestRegressor\n",
        "from sklearn.pipeline import Pipeline\n",
        "from sklearn.compose import ColumnTransformer\n",
        "from sklearn.preprocessing import StandardScaler, OneHotEncoder"
      ]
    },
    {
      "cell_type": "code",
      "execution_count": null,
      "metadata": {
        "id": "Dw8gpm-zDWje"
      },
      "outputs": [],
      "source": [
        "import mlflow\n",
        "import mlflow.sklearn"
      ]
    },
    {
      "cell_type": "code",
      "execution_count": null,
      "metadata": {
        "id": "jXZoQgQADhlw"
      },
      "outputs": [],
      "source": [
        "import logging\n",
        "logging.basicConfig(level=logging.WARN)\n",
        "logger = logging.getLogger(__name__)"
      ]
    },
    {
      "cell_type": "markdown",
      "metadata": {
        "id": "olHsTIHCEyqd"
      },
      "source": [
        "# Utilities for Data and Metrics"
      ]
    },
    {
      "cell_type": "code",
      "execution_count": null,
      "metadata": {
        "id": "iC3gWsBjDY5i"
      },
      "outputs": [],
      "source": [
        "def prepare_data():\n",
        "    #id = 1eNTyJc4jXJMkLPXW0eY6LL7_P9YN1GWO\n",
        "    warnings.filterwarnings(\"ignore\")\n",
        "    np.random.seed(42)\n",
        "\n",
        "    # Read the home price csv file from the URL\n",
        "    orig_url = \"https://drive.google.com/file/d/1eNTyJc4jXJMkLPXW0eY6LL7_P9YN1GWO/view\"\n",
        "    file_id = orig_url.split('/')[-2]\n",
        "    data_path='https://drive.google.com/uc?export=download&id=' + file_id\n",
        "    \n",
        "    try:\n",
        "        data = pd.read_csv(data_path)\n",
        "    except Exception as e:\n",
        "        logger.exception(\n",
        "            \"Unable to download training & test CSV, check your internet connection. Error: %s\", e)\n",
        "    \n",
        "    #numbers are written in this format \"1,235,00\" converting them to integers\n",
        "    data[\"price\"] = data[\"price\"].str.replace(',', '')\n",
        "    data[\"price\"] = pd.to_numeric(data[\"price\"])\n",
        "    data = data.drop([\"Unnamed: 0\", 'zip'], 1)\n",
        "    data = data.dropna()\n",
        "\n",
        "    y = data[\"price\"]\n",
        "    X = data.drop(\"price\", 1)\n",
        "    \n",
        "    X_train, X_test, y_train, y_test = train_test_split(X, y, test_size=0.2, random_state=42)\n",
        "\n",
        "    return X_train, X_test, y_train, y_test\n",
        "\n",
        "\n",
        "def eval_metrics(actual, pred):\n",
        "    rmse = np.sqrt(mean_squared_error(actual, pred))\n",
        "    mae = mean_absolute_error(actual, pred)\n",
        "    r2 = r2_score(actual, pred)\n",
        "    return rmse, mae, r2"
      ]
    },
    {
      "cell_type": "markdown",
      "metadata": {
        "id": "DBPEeZVrE09i"
      },
      "source": [
        "# Load Dataset"
      ]
    },
    {
      "cell_type": "code",
      "execution_count": null,
      "metadata": {
        "colab": {
          "base_uri": "https://localhost:8080/",
          "height": 302
        },
        "id": "CF34P-BEE2mi",
        "outputId": "38f77b79-6429-4f42-bdff-7bec1c47888b"
      },
      "outputs": [
        {
          "data": {
            "text/html": [
              "\n",
              "  <div id=\"df-fbb0c2fa-8750-4890-a830-e277d6abdd68\">\n",
              "    <div class=\"colab-df-container\">\n",
              "      <div>\n",
              "<style scoped>\n",
              "    .dataframe tbody tr th:only-of-type {\n",
              "        vertical-align: middle;\n",
              "    }\n",
              "\n",
              "    .dataframe tbody tr th {\n",
              "        vertical-align: top;\n",
              "    }\n",
              "\n",
              "    .dataframe thead th {\n",
              "        text-align: right;\n",
              "    }\n",
              "</style>\n",
              "<table border=\"1\" class=\"dataframe\">\n",
              "  <thead>\n",
              "    <tr style=\"text-align: right;\">\n",
              "      <th></th>\n",
              "      <th>type</th>\n",
              "      <th>room_num</th>\n",
              "      <th>floor</th>\n",
              "      <th>area_m2</th>\n",
              "      <th>floors_num</th>\n",
              "      <th>year_built</th>\n",
              "      <th>last_refurbishment</th>\n",
              "      <th>city</th>\n",
              "      <th>lat</th>\n",
              "      <th>lon</th>\n",
              "      <th>canton</th>\n",
              "    </tr>\n",
              "  </thead>\n",
              "  <tbody>\n",
              "    <tr>\n",
              "      <th>276</th>\n",
              "      <td>Apartment</td>\n",
              "      <td>4.5</td>\n",
              "      <td>2</td>\n",
              "      <td>145.0</td>\n",
              "      <td>3.0</td>\n",
              "      <td>2020.0</td>\n",
              "      <td>2020.0</td>\n",
              "      <td>Mendrisio</td>\n",
              "      <td>45.8862</td>\n",
              "      <td>8.988967</td>\n",
              "      <td>Ticino</td>\n",
              "    </tr>\n",
              "    <tr>\n",
              "      <th>1171</th>\n",
              "      <td>Row house</td>\n",
              "      <td>4.5</td>\n",
              "      <td>4</td>\n",
              "      <td>140.0</td>\n",
              "      <td>4.0</td>\n",
              "      <td>1984.0</td>\n",
              "      <td>2017.0</td>\n",
              "      <td>Agno</td>\n",
              "      <td>46.0005</td>\n",
              "      <td>8.902800</td>\n",
              "      <td>Ticino</td>\n",
              "    </tr>\n",
              "    <tr>\n",
              "      <th>1894</th>\n",
              "      <td>Single house</td>\n",
              "      <td>7.5</td>\n",
              "      <td>GF</td>\n",
              "      <td>143.0</td>\n",
              "      <td>1.0</td>\n",
              "      <td>1971.0</td>\n",
              "      <td>1971.0</td>\n",
              "      <td>St-Maurice</td>\n",
              "      <td>46.1988</td>\n",
              "      <td>6.995650</td>\n",
              "      <td>Canton du Valais</td>\n",
              "    </tr>\n",
              "    <tr>\n",
              "      <th>117</th>\n",
              "      <td>Apartment</td>\n",
              "      <td>5.5</td>\n",
              "      <td>1</td>\n",
              "      <td>174.0</td>\n",
              "      <td>1.0</td>\n",
              "      <td>2014.0</td>\n",
              "      <td>2014.0</td>\n",
              "      <td>Cheseaux-sur-Lausanne</td>\n",
              "      <td>46.5822</td>\n",
              "      <td>6.595800</td>\n",
              "      <td>Canton de Vaud</td>\n",
              "    </tr>\n",
              "    <tr>\n",
              "      <th>2028</th>\n",
              "      <td>Villa</td>\n",
              "      <td>8.5</td>\n",
              "      <td>GF</td>\n",
              "      <td>400.0</td>\n",
              "      <td>3.0</td>\n",
              "      <td>1972.0</td>\n",
              "      <td>2005.0</td>\n",
              "      <td>Aigle</td>\n",
              "      <td>46.3147</td>\n",
              "      <td>6.971600</td>\n",
              "      <td>Canton de Vaud</td>\n",
              "    </tr>\n",
              "  </tbody>\n",
              "</table>\n",
              "</div>\n",
              "      <button class=\"colab-df-convert\" onclick=\"convertToInteractive('df-fbb0c2fa-8750-4890-a830-e277d6abdd68')\"\n",
              "              title=\"Convert this dataframe to an interactive table.\"\n",
              "              style=\"display:none;\">\n",
              "        \n",
              "  <svg xmlns=\"http://www.w3.org/2000/svg\" height=\"24px\"viewBox=\"0 0 24 24\"\n",
              "       width=\"24px\">\n",
              "    <path d=\"M0 0h24v24H0V0z\" fill=\"none\"/>\n",
              "    <path d=\"M18.56 5.44l.94 2.06.94-2.06 2.06-.94-2.06-.94-.94-2.06-.94 2.06-2.06.94zm-11 1L8.5 8.5l.94-2.06 2.06-.94-2.06-.94L8.5 2.5l-.94 2.06-2.06.94zm10 10l.94 2.06.94-2.06 2.06-.94-2.06-.94-.94-2.06-.94 2.06-2.06.94z\"/><path d=\"M17.41 7.96l-1.37-1.37c-.4-.4-.92-.59-1.43-.59-.52 0-1.04.2-1.43.59L10.3 9.45l-7.72 7.72c-.78.78-.78 2.05 0 2.83L4 21.41c.39.39.9.59 1.41.59.51 0 1.02-.2 1.41-.59l7.78-7.78 2.81-2.81c.8-.78.8-2.07 0-2.86zM5.41 20L4 18.59l7.72-7.72 1.47 1.35L5.41 20z\"/>\n",
              "  </svg>\n",
              "      </button>\n",
              "      \n",
              "  <style>\n",
              "    .colab-df-container {\n",
              "      display:flex;\n",
              "      flex-wrap:wrap;\n",
              "      gap: 12px;\n",
              "    }\n",
              "\n",
              "    .colab-df-convert {\n",
              "      background-color: #E8F0FE;\n",
              "      border: none;\n",
              "      border-radius: 50%;\n",
              "      cursor: pointer;\n",
              "      display: none;\n",
              "      fill: #1967D2;\n",
              "      height: 32px;\n",
              "      padding: 0 0 0 0;\n",
              "      width: 32px;\n",
              "    }\n",
              "\n",
              "    .colab-df-convert:hover {\n",
              "      background-color: #E2EBFA;\n",
              "      box-shadow: 0px 1px 2px rgba(60, 64, 67, 0.3), 0px 1px 3px 1px rgba(60, 64, 67, 0.15);\n",
              "      fill: #174EA6;\n",
              "    }\n",
              "\n",
              "    [theme=dark] .colab-df-convert {\n",
              "      background-color: #3B4455;\n",
              "      fill: #D2E3FC;\n",
              "    }\n",
              "\n",
              "    [theme=dark] .colab-df-convert:hover {\n",
              "      background-color: #434B5C;\n",
              "      box-shadow: 0px 1px 3px 1px rgba(0, 0, 0, 0.15);\n",
              "      filter: drop-shadow(0px 1px 2px rgba(0, 0, 0, 0.3));\n",
              "      fill: #FFFFFF;\n",
              "    }\n",
              "  </style>\n",
              "\n",
              "      <script>\n",
              "        const buttonEl =\n",
              "          document.querySelector('#df-fbb0c2fa-8750-4890-a830-e277d6abdd68 button.colab-df-convert');\n",
              "        buttonEl.style.display =\n",
              "          google.colab.kernel.accessAllowed ? 'block' : 'none';\n",
              "\n",
              "        async function convertToInteractive(key) {\n",
              "          const element = document.querySelector('#df-fbb0c2fa-8750-4890-a830-e277d6abdd68');\n",
              "          const dataTable =\n",
              "            await google.colab.kernel.invokeFunction('convertToInteractive',\n",
              "                                                     [key], {});\n",
              "          if (!dataTable) return;\n",
              "\n",
              "          const docLinkHtml = 'Like what you see? Visit the ' +\n",
              "            '<a target=\"_blank\" href=https://colab.research.google.com/notebooks/data_table.ipynb>data table notebook</a>'\n",
              "            + ' to learn more about interactive tables.';\n",
              "          element.innerHTML = '';\n",
              "          dataTable['output_type'] = 'display_data';\n",
              "          await google.colab.output.renderOutput(dataTable, element);\n",
              "          const docLink = document.createElement('div');\n",
              "          docLink.innerHTML = docLinkHtml;\n",
              "          element.appendChild(docLink);\n",
              "        }\n",
              "      </script>\n",
              "    </div>\n",
              "  </div>\n",
              "  "
            ],
            "text/plain": [
              "              type  room_num floor  area_m2  floors_num  year_built  \\\n",
              "276      Apartment       4.5     2    145.0         3.0      2020.0   \n",
              "1171     Row house       4.5     4    140.0         4.0      1984.0   \n",
              "1894  Single house       7.5    GF    143.0         1.0      1971.0   \n",
              "117      Apartment       5.5     1    174.0         1.0      2014.0   \n",
              "2028         Villa       8.5    GF    400.0         3.0      1972.0   \n",
              "\n",
              "      last_refurbishment                   city      lat       lon  \\\n",
              "276               2020.0              Mendrisio  45.8862  8.988967   \n",
              "1171              2017.0                   Agno  46.0005  8.902800   \n",
              "1894              1971.0             St-Maurice  46.1988  6.995650   \n",
              "117               2014.0  Cheseaux-sur-Lausanne  46.5822  6.595800   \n",
              "2028              2005.0                  Aigle  46.3147  6.971600   \n",
              "\n",
              "                canton  \n",
              "276             Ticino  \n",
              "1171            Ticino  \n",
              "1894  Canton du Valais  \n",
              "117     Canton de Vaud  \n",
              "2028    Canton de Vaud  "
            ]
          },
          "execution_count": 7,
          "metadata": {},
          "output_type": "execute_result"
        }
      ],
      "source": [
        "X_train, X_test, y_train, y_test = prepare_data()\n",
        "\n",
        "data = {\n",
        "    'X_train': X_train,\n",
        "    'X_test': X_test,\n",
        "    'y_train': y_train,\n",
        "    'y_test': y_test\n",
        "}\n",
        "\n",
        "data['X_train'].head()"
      ]
    },
    {
      "cell_type": "code",
      "execution_count": null,
      "metadata": {
        "colab": {
          "base_uri": "https://localhost:8080/"
        },
        "id": "TJFKFOoCE6Jk",
        "outputId": "a065f18f-02e4-47b6-998d-a58acd59e098"
      },
      "outputs": [
        {
          "data": {
            "text/plain": [
              "276     1060000\n",
              "1171     900000\n",
              "1894     870000\n",
              "117     1450000\n",
              "2028    2150000\n",
              "Name: price, dtype: int64"
            ]
          },
          "execution_count": 8,
          "metadata": {},
          "output_type": "execute_result"
        }
      ],
      "source": [
        "data['y_train'].head()"
      ]
    },
    {
      "cell_type": "markdown",
      "metadata": {
        "id": "TOBGX8MFFOe9"
      },
      "source": [
        "# Utilities for Modeling and Tracking Experiments"
      ]
    },
    {
      "cell_type": "code",
      "execution_count": null,
      "metadata": {
        "id": "Urm3Z4_GFUcL"
      },
      "outputs": [],
      "source": [
        "def train_random_forest(data, n_trees=100, max_depth=None):\n",
        "\n",
        "    # Train and track experiment   \n",
        "    with mlflow.start_run():\n",
        "\n",
        "        categorical_features = ['type', 'floor', 'city', 'canton']\n",
        "        continious_features = ['room_num', 'area_m2', 'floors_num', 'year_built', 'last_refurbishment', 'lat', 'lon']\n",
        "\n",
        "        numeric_transformer = Pipeline(steps=[(\"scaler\", StandardScaler())])\n",
        "\n",
        "        categorical_transformer = Pipeline(steps=[(\"onehot\", OneHotEncoder(handle_unknown=\"ignore\"))])\n",
        "\n",
        "        preprocessor = ColumnTransformer( transformers = [(\"num\", numeric_transformer, continious_features),\n",
        "                    (\"cat\", categorical_transformer, categorical_features)])\n",
        "        \n",
        "        # Execute RF\n",
        "        rf = RandomForestRegressor(n_estimators=n_trees, max_depth=max_depth, random_state=42)\n",
        "        pipeline_rf = Pipeline([(\"col_transformer\", preprocessor), \n",
        "                            (\"estimator\", rf)])\n",
        "        pipeline_rf.fit(data['X_train'], data['y_train'])\n",
        "\n",
        "        # Evaluate Metrics\n",
        "        predicted_qualities = pipeline_rf.predict(data['X_test'])\n",
        "        (rmse, mae, r2) = eval_metrics(data['y_test'], predicted_qualities)\n",
        "\n",
        "        # Print out metrics\n",
        "        print(\"Random Forest model (n_estimators={}, max_depth={}):\".format(n_trees, max_depth))\n",
        "        print(\"  RMSE: %s\" % rmse)\n",
        "        print(\"  MAE: %s\" % mae)\n",
        "        print(\"  R2: %s\" % r2)\n",
        "\n",
        "        # Log parameter, metrics, and model to MLflow\n",
        "        mlflow.log_param('Model', 'Random Forest')  \n",
        "        mlflow.log_param(\"n_estimators\", n_trees)\n",
        "        mlflow.log_param(\"max_depth\", max_depth)\n",
        "        \n",
        "        mlflow.log_metric(\"rmse\", rmse)\n",
        "        mlflow.log_metric(\"r2\", r2)\n",
        "        mlflow.log_metric(\"mae\", mae)\n",
        "\n",
        "        mlflow.sklearn.log_model(pipeline_rf, \"model\")"
      ]
    },
    {
      "cell_type": "markdown",
      "metadata": {
        "id": "31Fso5Z7wW_z"
      },
      "source": [
        "## Experiments"
      ]
    },
    {
      "cell_type": "code",
      "execution_count": null,
      "metadata": {
        "colab": {
          "base_uri": "https://localhost:8080/"
        },
        "id": "DRZ1AaOyG5_x",
        "outputId": "e6af38eb-3bbb-4965-8bd2-e1eca4cd376e"
      },
      "outputs": [
        {
          "name": "stdout",
          "output_type": "stream",
          "text": [
            "Random Forest model (n_estimators=100, max_depth=None):\n",
            "  RMSE: 946901.6327767096\n",
            "  MAE: 427173.6942019544\n",
            "  R2: 0.7379139162588411\n"
          ]
        }
      ],
      "source": [
        "train_random_forest(data)"
      ]
    },
    {
      "cell_type": "code",
      "execution_count": null,
      "metadata": {
        "id": "iEjNJID5G903"
      },
      "outputs": [],
      "source": [
        "#train_random_forest(data, n_trees=500, max_depth=None)"
      ]
    },
    {
      "cell_type": "code",
      "execution_count": null,
      "metadata": {
        "id": "wFlyiJk-HAf6"
      },
      "outputs": [],
      "source": [
        "#train_random_forest(data, n_trees=1000, max_depth=None)"
      ]
    },
    {
      "cell_type": "code",
      "execution_count": null,
      "metadata": {
        "id": "KKQqJHHgHH1i"
      },
      "outputs": [],
      "source": [
        "#train_random_forest(data, n_trees=500, max_depth=5)"
      ]
    },
    {
      "cell_type": "markdown",
      "metadata": {
        "id": "M4216Oi3ziHl"
      },
      "source": [
        "These models will create files in a folder named as mlruns. Which will be used by MLFLow for the UI."
      ]
    },
    {
      "cell_type": "markdown",
      "metadata": {
        "id": "KpsGT1OJwW_2"
      },
      "source": [
        "## MLFLow UI"
      ]
    },
    {
      "cell_type": "markdown",
      "metadata": {
        "id": "mvMnCbjXwW_2"
      },
      "source": [
        "Run `mlflow ui` in terminal\n",
        "<br>and view it at http://localhost:5000 in case running locally from jupyter. \n",
        "<br> In case of running in colab we will have to use ngrok tunnel."
      ]
    },
    {
      "cell_type": "code",
      "execution_count": null,
      "metadata": {
        "colab": {
          "base_uri": "https://localhost:8080/"
        },
        "id": "H7e5OkJCwrfp",
        "outputId": "d9278751-9933-43e6-e781-28fc2d524c4a"
      },
      "outputs": [
        {
          "name": "stdout",
          "output_type": "stream",
          "text": [
            "\u001b[?25l\r\u001b[K     |▍                               | 10 kB 17.9 MB/s eta 0:00:01\r\u001b[K     |▉                               | 20 kB 17.6 MB/s eta 0:00:01\r\u001b[K     |█▎                              | 30 kB 7.5 MB/s eta 0:00:01\r\u001b[K     |█▊                              | 40 kB 6.6 MB/s eta 0:00:01\r\u001b[K     |██▏                             | 51 kB 4.3 MB/s eta 0:00:01\r\u001b[K     |██▋                             | 61 kB 5.1 MB/s eta 0:00:01\r\u001b[K     |███                             | 71 kB 5.6 MB/s eta 0:00:01\r\u001b[K     |███▌                            | 81 kB 5.0 MB/s eta 0:00:01\r\u001b[K     |████                            | 92 kB 5.6 MB/s eta 0:00:01\r\u001b[K     |████▍                           | 102 kB 5.1 MB/s eta 0:00:01\r\u001b[K     |████▉                           | 112 kB 5.1 MB/s eta 0:00:01\r\u001b[K     |█████▎                          | 122 kB 5.1 MB/s eta 0:00:01\r\u001b[K     |█████▊                          | 133 kB 5.1 MB/s eta 0:00:01\r\u001b[K     |██████▏                         | 143 kB 5.1 MB/s eta 0:00:01\r\u001b[K     |██████▋                         | 153 kB 5.1 MB/s eta 0:00:01\r\u001b[K     |███████                         | 163 kB 5.1 MB/s eta 0:00:01\r\u001b[K     |███████▌                        | 174 kB 5.1 MB/s eta 0:00:01\r\u001b[K     |████████                        | 184 kB 5.1 MB/s eta 0:00:01\r\u001b[K     |████████▍                       | 194 kB 5.1 MB/s eta 0:00:01\r\u001b[K     |████████▉                       | 204 kB 5.1 MB/s eta 0:00:01\r\u001b[K     |█████████▎                      | 215 kB 5.1 MB/s eta 0:00:01\r\u001b[K     |█████████▊                      | 225 kB 5.1 MB/s eta 0:00:01\r\u001b[K     |██████████▏                     | 235 kB 5.1 MB/s eta 0:00:01\r\u001b[K     |██████████▌                     | 245 kB 5.1 MB/s eta 0:00:01\r\u001b[K     |███████████                     | 256 kB 5.1 MB/s eta 0:00:01\r\u001b[K     |███████████▍                    | 266 kB 5.1 MB/s eta 0:00:01\r\u001b[K     |███████████▉                    | 276 kB 5.1 MB/s eta 0:00:01\r\u001b[K     |████████████▎                   | 286 kB 5.1 MB/s eta 0:00:01\r\u001b[K     |████████████▊                   | 296 kB 5.1 MB/s eta 0:00:01\r\u001b[K     |█████████████▏                  | 307 kB 5.1 MB/s eta 0:00:01\r\u001b[K     |█████████████▋                  | 317 kB 5.1 MB/s eta 0:00:01\r\u001b[K     |██████████████                  | 327 kB 5.1 MB/s eta 0:00:01\r\u001b[K     |██████████████▌                 | 337 kB 5.1 MB/s eta 0:00:01\r\u001b[K     |███████████████                 | 348 kB 5.1 MB/s eta 0:00:01\r\u001b[K     |███████████████▍                | 358 kB 5.1 MB/s eta 0:00:01\r\u001b[K     |███████████████▉                | 368 kB 5.1 MB/s eta 0:00:01\r\u001b[K     |████████████████▎               | 378 kB 5.1 MB/s eta 0:00:01\r\u001b[K     |████████████████▊               | 389 kB 5.1 MB/s eta 0:00:01\r\u001b[K     |█████████████████▏              | 399 kB 5.1 MB/s eta 0:00:01\r\u001b[K     |█████████████████▋              | 409 kB 5.1 MB/s eta 0:00:01\r\u001b[K     |██████████████████              | 419 kB 5.1 MB/s eta 0:00:01\r\u001b[K     |██████████████████▌             | 430 kB 5.1 MB/s eta 0:00:01\r\u001b[K     |███████████████████             | 440 kB 5.1 MB/s eta 0:00:01\r\u001b[K     |███████████████████▍            | 450 kB 5.1 MB/s eta 0:00:01\r\u001b[K     |███████████████████▉            | 460 kB 5.1 MB/s eta 0:00:01\r\u001b[K     |████████████████████▎           | 471 kB 5.1 MB/s eta 0:00:01\r\u001b[K     |████████████████████▋           | 481 kB 5.1 MB/s eta 0:00:01\r\u001b[K     |█████████████████████           | 491 kB 5.1 MB/s eta 0:00:01\r\u001b[K     |█████████████████████▌          | 501 kB 5.1 MB/s eta 0:00:01\r\u001b[K     |██████████████████████          | 512 kB 5.1 MB/s eta 0:00:01\r\u001b[K     |██████████████████████▍         | 522 kB 5.1 MB/s eta 0:00:01\r\u001b[K     |██████████████████████▉         | 532 kB 5.1 MB/s eta 0:00:01\r\u001b[K     |███████████████████████▎        | 542 kB 5.1 MB/s eta 0:00:01\r\u001b[K     |███████████████████████▊        | 552 kB 5.1 MB/s eta 0:00:01\r\u001b[K     |████████████████████████▏       | 563 kB 5.1 MB/s eta 0:00:01\r\u001b[K     |████████████████████████▋       | 573 kB 5.1 MB/s eta 0:00:01\r\u001b[K     |█████████████████████████       | 583 kB 5.1 MB/s eta 0:00:01\r\u001b[K     |█████████████████████████▌      | 593 kB 5.1 MB/s eta 0:00:01\r\u001b[K     |██████████████████████████      | 604 kB 5.1 MB/s eta 0:00:01\r\u001b[K     |██████████████████████████▍     | 614 kB 5.1 MB/s eta 0:00:01\r\u001b[K     |██████████████████████████▉     | 624 kB 5.1 MB/s eta 0:00:01\r\u001b[K     |███████████████████████████▎    | 634 kB 5.1 MB/s eta 0:00:01\r\u001b[K     |███████████████████████████▊    | 645 kB 5.1 MB/s eta 0:00:01\r\u001b[K     |████████████████████████████▏   | 655 kB 5.1 MB/s eta 0:00:01\r\u001b[K     |████████████████████████████▋   | 665 kB 5.1 MB/s eta 0:00:01\r\u001b[K     |█████████████████████████████   | 675 kB 5.1 MB/s eta 0:00:01\r\u001b[K     |█████████████████████████████▌  | 686 kB 5.1 MB/s eta 0:00:01\r\u001b[K     |██████████████████████████████  | 696 kB 5.1 MB/s eta 0:00:01\r\u001b[K     |██████████████████████████████▍ | 706 kB 5.1 MB/s eta 0:00:01\r\u001b[K     |██████████████████████████████▊ | 716 kB 5.1 MB/s eta 0:00:01\r\u001b[K     |███████████████████████████████▏| 727 kB 5.1 MB/s eta 0:00:01\r\u001b[K     |███████████████████████████████▋| 737 kB 5.1 MB/s eta 0:00:01\r\u001b[K     |████████████████████████████████| 745 kB 5.1 MB/s \n",
            "\u001b[?25h  Building wheel for pyngrok (setup.py) ... \u001b[?25l\u001b[?25hdone\n"
          ]
        }
      ],
      "source": [
        "!pip install pyngrok --quiet"
      ]
    },
    {
      "cell_type": "code",
      "execution_count": null,
      "metadata": {
        "colab": {
          "base_uri": "https://localhost:8080/"
        },
        "id": "CL0ZMdvCxUhs",
        "outputId": "f5379819-0961-4226-8dc4-e56231e69100"
      },
      "outputs": [
        {
          "name": "stdout",
          "output_type": "stream",
          "text": [
            "MLflow Model UI: https://ad1a-35-185-96-26.ngrok.io\n"
          ]
        }
      ],
      "source": [
        "from pyngrok import ngrok\n",
        "from getpass import getpass\n",
        "\n",
        "# Terminate open tunnels if exist\n",
        "ngrok.kill()\n",
        "\n",
        "# Setting the authtoken (optional)\n",
        "# Get your authtoken from https://dashboard.ngrok.com/auth\n",
        "NGROK_AUTH_TOKEN = getpass('Enter the ngrok authtoken: ')\n",
        "ngrok.set_auth_token(NGROK_AUTH_TOKEN)\n",
        "\n",
        "# Open an HTTPs tunnel on port 5000 for http://localhost:5000\n",
        "ngrok_tunnel = ngrok.connect(addr=\"5000\", proto=\"http\", bind_tls=True)\n",
        "print(\"MLflow Model UI:\", ngrok_tunnel.public_url)"
      ]
    },
    {
      "cell_type": "markdown",
      "metadata": {
        "id": "JOH41wxbG7kN"
      },
      "source": [
        "## Serve the Model\n",
        "Serve a model saved with MLflow by launching a webserver on the specified host and port. The command supports models with the python_function or crate (R Function) flavor. For information about the input data formats accepted by the webserver, see the following documentation: https://www.mlflow.org/docs/latest/models.html#built-in-deployment-tools.\n",
        "\n",
        "You can make requests to `POST /invocations` in pandas split- or record-oriented formats.\n",
        "\n",
        "**Example**:\n",
        "\n",
        "```bash\n",
        "$ mlflow models serve -m mlruns/my-run-id/model-path \n",
        "\n",
        "$ curl http://127.0.0.1:5000/invocations -H 'Content-Type: application/json' -d '{\n",
        "    \"columns\": [\"a\", \"b\", \"c\"],\n",
        "    \"data\": [[1, 2, 3], [4, 5, 6]]\n",
        "}' \n",
        "```\n",
        "\n",
        "further information can be found [here](https://www.mlflow.org/docs/latest/cli.html#mlflow-models-serve):"
      ]
    },
    {
      "cell_type": "code",
      "execution_count": null,
      "metadata": {
        "id": "Ow8u6C3FxbzF"
      },
      "outputs": [],
      "source": [
        "# MLFlow Tracking in case we need to kill the process \n",
        "# get_ipython().system_raw(\"mlflow ui --port 5000 &\")\n",
        "# get_ipython().system_raw(\"killall mlflow\")\n",
        "#!mlflow ui --port 5000"
      ]
    },
    {
      "cell_type": "code",
      "execution_count": null,
      "metadata": {
        "colab": {
          "base_uri": "https://localhost:8080/"
        },
        "id": "QbvhbsqJIGT0",
        "outputId": "125fc4f4-1731-4560-ad3e-c7bbaac27799"
      },
      "outputs": [
        {
          "output_type": "stream",
          "name": "stdout",
          "text": [
            "2022/06/19 15:34:04 INFO mlflow.models.cli: Selected backend for flavor 'python_function'\n",
            "2022/06/19 15:34:04 INFO mlflow.pyfunc.backend: === Running command 'exec gunicorn --timeout=60 -b 127.0.0.1:5000 -w 1 ${GUNICORN_CMD_ARGS} -- mlflow.pyfunc.scoring_server.wsgi:app'\n",
            "[2022-06-19 15:34:05 +0000] [273] [INFO] Starting gunicorn 20.1.0\n",
            "[2022-06-19 15:34:05 +0000] [273] [INFO] Listening at: http://127.0.0.1:5000 (273)\n",
            "[2022-06-19 15:34:05 +0000] [273] [INFO] Using worker: sync\n",
            "[2022-06-19 15:34:05 +0000] [276] [INFO] Booting worker with pid: 276\n",
            "[2022-06-19 22:01:46 +0000] [273] [INFO] Handling signal: int\n",
            "\n",
            "Aborted!\n",
            "[2022-06-19 22:01:46 +0000] [276] [INFO] Worker exiting (pid: 276)\n",
            "[2022-06-19 22:01:46 +0000] [273] [INFO] Shutting down: Master\n"
          ]
        }
      ],
      "source": [
        "# MLFlow Models\n",
        "# serve model from the specific run, the path will contain the name from .log_model() function\n",
        "!mlflow models serve --env-manager=local -m mlruns/0/812a7a4a42824f6bb0c88be1ec4066e4/artifacts/model"
      ]
    },
    {
      "cell_type": "code",
      "execution_count": null,
      "metadata": {
        "id": "_mhCZc6KSODE"
      },
      "outputs": [],
      "source": [
        "# to predict use the terminal or the another colab notebook\n",
        "#!curl https://6c74-35-196-27-68.ngrok.io/invocations -H 'Content-Type: application/json' -d f'''{\"columns\": {columns_},\"data\": {data_}}'''"
      ]
    },
    {
      "cell_type": "markdown",
      "metadata": {
        "id": "1etXoblw6DPX"
      },
      "source": [
        "# Assignments\n",
        "\n",
        "1. Add more runs and try to serve different models.\n",
        "2. Change test data dictionary to predict the price of the housing (use terminal or another colab notebook).\n",
        "3. Convert you ML model code from work into MLFlow compatible code and run it using MLFlow API to track your experiment and deploy your model.\n",
        "4. Explore MLFlow [GitHub examples](https://github.com/amesar/mlflow-examples).     "
      ]
    },
    {
      "cell_type": "code",
      "execution_count": null,
      "metadata": {
        "id": "TEpP5NGM6tk0"
      },
      "outputs": [],
      "source": [
        ""
      ]
    }
  ],
  "metadata": {
    "colab": {
      "collapsed_sections": [],
      "name": "LC3_MLFlow_Models_Regression_SwissHousing.ipynb",
      "provenance": [],
      "include_colab_link": true
    },
    "kernelspec": {
      "display_name": "Python 3",
      "language": "python",
      "name": "python3"
    },
    "language_info": {
      "codemirror_mode": {
        "name": "ipython",
        "version": 3
      },
      "file_extension": ".py",
      "mimetype": "text/x-python",
      "name": "python",
      "nbconvert_exporter": "python",
      "pygments_lexer": "ipython3",
      "version": "3.8.5"
    }
  },
  "nbformat": 4,
  "nbformat_minor": 0
}