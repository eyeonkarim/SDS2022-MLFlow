{
  "nbformat": 4,
  "nbformat_minor": 0,
  "metadata": {
    "colab": {
      "name": "LC2_MLFlow_Projects_Regression_SwissHousing.ipynb",
      "provenance": [],
      "collapsed_sections": [],
      "include_colab_link": true
    },
    "kernelspec": {
      "name": "python3",
      "display_name": "Python 3"
    },
    "language_info": {
      "name": "python"
    }
  },
  "cells": [
    {
      "cell_type": "markdown",
      "metadata": {
        "id": "view-in-github",
        "colab_type": "text"
      },
      "source": [
        "<a href=\"https://colab.research.google.com/github/eyeonkarim/SDS2022-MLFlow/blob/main/LC2_MLFlow_Projects_Regression_SwissHousing.ipynb\" target=\"_parent\"><img src=\"https://colab.research.google.com/assets/colab-badge.svg\" alt=\"Open In Colab\"/></a>"
      ]
    },
    {
      "cell_type": "markdown",
      "source": [
        "<center><a target=\"_blank\" href=\"https://www.sds2022.ch/\"><img src=\"https://drive.google.com/uc?id=1S7k7kTXs9qIylw3C7LA9rHkLycjlY8te\" width=\"500\" style=\"background:none; border:none; box-shadow:none;\" /></a> </center>\n",
        "\n",
        "<center><a target=\"_blank\" href=\"http://www.sit.academy\"><img src=\"https://drive.google.com/uc?id=1x9_jQgLhozCSWDSaOdVxKmxOEAe_OLgV\" width=\"250\" style=\"background:none; border:none; box-shadow:none;\" /></a> </center>\n",
        "\n",
        "_____\n",
        "\n",
        "<center> <h1> Live Coding  </h1> </center>\n",
        "\n",
        "<p style=\"margin-bottom:1cm;\"></p>\n",
        "\n",
        "_____\n",
        "\n",
        "<center>SIT Academy, 2022</center>\n",
        "\n"
      ],
      "metadata": {
        "id": "eTrll2l6jTTL"
      }
    },
    {
      "cell_type": "markdown",
      "source": [
        "# MLFlow Workshop - Sequence 2 - Projects API\n",
        "\n",
        "MLflow Projects are a standard format for packaging reusable data science code. Each project is simply a directory with code or a Git repository, and uses a descriptor file or simply convention to specify its dependencies and how to run the code. \n",
        "\n",
        "For example, projects can contain a `conda.yaml` file for specifying a Python Conda environment. When you use the `MLflow Tracking API` in a Project, MLflow automatically remembers the project version (for example, Git commit) and any parameters. \n",
        "\n",
        "You can easily run existing MLflow Projects from `GitHub` or your own Git repository, and chain them into multi-step workflows.\n"
      ],
      "metadata": {
        "id": "X0G6MEn4SfoL"
      }
    },
    {
      "cell_type": "markdown",
      "source": [
        "## Install dependencies"
      ],
      "metadata": {
        "id": "Oh4f6QesyM-W"
      }
    },
    {
      "cell_type": "code",
      "source": [
        "!pip -q install mlflow"
      ],
      "metadata": {
        "id": "j8J4Xx5QS5WN",
        "colab": {
          "base_uri": "https://localhost:8080/"
        },
        "outputId": "3123f9e1-f548-4d55-cbe5-9dc181a81973"
      },
      "execution_count": null,
      "outputs": [
        {
          "output_type": "stream",
          "name": "stdout",
          "text": [
            "\u001b[K     |████████████████████████████████| 17.8 MB 729 kB/s \n",
            "\u001b[K     |████████████████████████████████| 79 kB 6.9 MB/s \n",
            "\u001b[K     |████████████████████████████████| 146 kB 62.3 MB/s \n",
            "\u001b[K     |████████████████████████████████| 209 kB 57.9 MB/s \n",
            "\u001b[K     |████████████████████████████████| 81 kB 7.6 MB/s \n",
            "\u001b[K     |████████████████████████████████| 181 kB 48.0 MB/s \n",
            "\u001b[K     |████████████████████████████████| 596 kB 53.3 MB/s \n",
            "\u001b[K     |████████████████████████████████| 54 kB 2.5 MB/s \n",
            "\u001b[K     |████████████████████████████████| 63 kB 1.5 MB/s \n",
            "\u001b[K     |████████████████████████████████| 78 kB 6.0 MB/s \n",
            "\u001b[?25h  Building wheel for databricks-cli (setup.py) ... \u001b[?25l\u001b[?25hdone\n"
          ]
        }
      ]
    },
    {
      "cell_type": "markdown",
      "source": [
        "By default, MlFlow uses conda to create a temporary virtual environment for each run."
      ],
      "metadata": {
        "id": "30iTzMlF7Ypk"
      }
    },
    {
      "cell_type": "markdown",
      "source": [
        "There is a helper package that makes installing Conda on Google Colab a breeze:"
      ],
      "metadata": {
        "id": "AX0sLIvlySQi"
      }
    },
    {
      "cell_type": "code",
      "source": [
        "!pip install -q condacolab\n",
        "import condacolab\n",
        "condacolab.install()"
      ],
      "metadata": {
        "id": "GLIO9ti3TQcN",
        "colab": {
          "base_uri": "https://localhost:8080/"
        },
        "outputId": "b20f81ee-6834-4975-e9c1-0fb82f8cb15e"
      },
      "execution_count": null,
      "outputs": [
        {
          "output_type": "stream",
          "name": "stdout",
          "text": [
            "⏬ Downloading https://github.com/jaimergp/miniforge/releases/latest/download/Mambaforge-colab-Linux-x86_64.sh...\n",
            "📦 Installing...\n",
            "📌 Adjusting configuration...\n",
            "🩹 Patching environment...\n",
            "⏲ Done in 0:00:46\n",
            "🔁 Restarting kernel...\n"
          ]
        }
      ]
    },
    {
      "cell_type": "markdown",
      "source": [
        "*Note: Your kernel will probably restart after setting up Conda. Don't be alarmed.*"
      ],
      "metadata": {
        "id": "FCy20Bif7OFo"
      }
    },
    {
      "cell_type": "code",
      "source": [
        "!conda --version"
      ],
      "metadata": {
        "id": "IudddAZkTTev",
        "colab": {
          "base_uri": "https://localhost:8080/"
        },
        "outputId": "3132a37a-2e20-47c9-b202-0cba40cdd8a2"
      },
      "execution_count": null,
      "outputs": [
        {
          "output_type": "stream",
          "name": "stdout",
          "text": [
            "conda 4.9.2\n"
          ]
        }
      ]
    },
    {
      "cell_type": "markdown",
      "source": [
        "Let's also create a minimal conda environment YAML config file that Mlflow will use later. (We won't be creating the environment ourselves at this point.)"
      ],
      "metadata": {
        "id": "TCRe952I-B3n"
      }
    },
    {
      "cell_type": "code",
      "source": [
        "%%writefile mlflow_swisshousing.yml\n",
        "\n",
        "name: swisshousing\n",
        "channels:\n",
        "  - conda-forge\n",
        "dependencies:\n",
        "  - python=3.7\n",
        "  - pandas=1.3.5\n",
        "  - scikit-learn=1.0.2\n",
        "  - pip\n",
        "  - pip:\n",
        "    - mlflow"
      ],
      "metadata": {
        "colab": {
          "base_uri": "https://localhost:8080/"
        },
        "id": "sTPuLhA1-LdL",
        "outputId": "10fc99cc-e8e4-4a6e-9901-d5a8218fa178"
      },
      "execution_count": null,
      "outputs": [
        {
          "output_type": "stream",
          "name": "stdout",
          "text": [
            "Overwriting mlflow_swisshousing.yml\n"
          ]
        }
      ]
    },
    {
      "cell_type": "markdown",
      "source": [
        "## Setting up our script for the command line"
      ],
      "metadata": {
        "id": "I5_tRQZQS5wA"
      }
    },
    {
      "cell_type": "markdown",
      "source": [
        "First, we need to add a way for MLFlow to be able to pass arguments to our script(s)."
      ],
      "metadata": {
        "id": "-EdPgZnjw9y4"
      }
    },
    {
      "cell_type": "markdown",
      "source": [
        "Now, let's clean up the script and add a few lines of code that will allow us to pass in arguments to allow for adjustable runs."
      ],
      "metadata": {
        "id": "0X3FBi2Vxm5P"
      }
    },
    {
      "cell_type": "code",
      "source": [
        "%%writefile mlflow_swisshousing_train.py\n",
        "\n",
        "# -*- coding: utf-8 -*-\n",
        "#EX1_MLFlow_Tracking_Regression_SwissHousing.ipynb\n",
        "#Automatically generated by Colaboratory.\n",
        "\n",
        "#Original file is located at\n",
        "#    https://colab.research.google.com/drive/1Rl3N-X41fKfyZ-c-hQ9qPK48B5O1wQ-H\n",
        "\n",
        "# Load Dependencies\n",
        "\n",
        "import os\n",
        "import warnings\n",
        "import sys\n",
        "\n",
        "import pandas as pd\n",
        "import numpy as np\n",
        "\n",
        "from sklearn.metrics import mean_squared_error, mean_absolute_error, r2_score\n",
        "from sklearn.model_selection import train_test_split\n",
        "from sklearn.linear_model import ElasticNet\n",
        "from sklearn.ensemble import RandomForestRegressor\n",
        "from sklearn.pipeline import Pipeline\n",
        "from sklearn.compose import ColumnTransformer\n",
        "from sklearn.preprocessing import StandardScaler, OneHotEncoder\n",
        "\n",
        "import mlflow\n",
        "import mlflow.sklearn\n",
        "\n",
        "import logging\n",
        "logging.basicConfig(level=logging.WARN)\n",
        "logger = logging.getLogger(__name__)\n",
        "\n",
        "########\n",
        "# Command-line args - passed in by MLFlow\n",
        "print(sys.argv)\n",
        "model_type = sys.argv[1]\n",
        "alpha = float(sys.argv[2])\n",
        "l1_ratio = float(sys.argv[3])\n",
        "########\n",
        "\n",
        "\"\"\"# Utilities for Data and Metrics\"\"\"\n",
        "\n",
        "def prepare_data():\n",
        "    #id = 1eNTyJc4jXJMkLPXW0eY6LL7_P9YN1GWO\n",
        "    warnings.filterwarnings(\"ignore\")\n",
        "    np.random.seed(42)\n",
        "\n",
        "    # Read the home price csv file from the URL\n",
        "    orig_url = \"https://drive.google.com/file/d/1eNTyJc4jXJMkLPXW0eY6LL7_P9YN1GWO/view\"\n",
        "    file_id = orig_url.split('/')[-2]\n",
        "    data_path='https://drive.google.com/uc?export=download&id=' + file_id\n",
        "    \n",
        "    try:\n",
        "        data = pd.read_csv(data_path)\n",
        "    except Exception as e:\n",
        "        logger.exception(\n",
        "            \"Unable to download training & test CSV, check your internet connection. Error: %s\", e)\n",
        "    \n",
        "    #numbers are written in this format \"1,235,00\" converting them to integers\n",
        "    data[\"price\"] = data[\"price\"].str.replace(',', '')\n",
        "    data[\"price\"] = pd.to_numeric(data[\"price\"])\n",
        "    data = data.drop([\"Unnamed: 0\", 'zip'], 1)\n",
        "    data = data.dropna()\n",
        "\n",
        "    y = data[\"price\"]\n",
        "    X = data.drop(\"price\", 1)\n",
        "    \n",
        "    X_train, X_test, y_train, y_test = train_test_split(X, y, test_size=0.2, random_state=42)\n",
        "\n",
        "    return X_train, X_test, y_train, y_test\n",
        "\n",
        "\n",
        "def eval_metrics(actual, pred):\n",
        "    rmse = np.sqrt(mean_squared_error(actual, pred))\n",
        "    mae = mean_absolute_error(actual, pred)\n",
        "    r2 = r2_score(actual, pred)\n",
        "    return rmse, mae, r2\n",
        "\n",
        "\"\"\"# Load Dataset\"\"\"\n",
        "\n",
        "X_train, X_test, y_train, y_test = prepare_data()\n",
        "\n",
        "data = {\n",
        "    'X_train': X_train,\n",
        "    'X_test': X_test,\n",
        "    'y_train': y_train,\n",
        "    'y_test': y_test\n",
        "}\n",
        "\n",
        "data['X_train'].head()\n",
        "\n",
        "data['y_train'].head()\n",
        "\n",
        "\"\"\"# Utilities for Modeling and Tracking Experiments\"\"\"\n",
        "\n",
        "def train_elasticnet(data, alpha=0.5, l1_ratio=0.5):\n",
        "\n",
        "    # Train and track experiment\n",
        "    with mlflow.start_run():\n",
        "\n",
        "        categorical_features = ['type', 'floor', 'city', 'canton']\n",
        "        continious_features = ['room_num', 'area_m2', 'floors_num', 'year_built', 'last_refurbishment', 'lat', 'lon']\n",
        "\n",
        "        numeric_transformer = Pipeline(steps=[(\"scaler\", StandardScaler())])\n",
        "\n",
        "        categorical_transformer = Pipeline(steps=[(\"onehot\", OneHotEncoder(handle_unknown=\"ignore\"))])\n",
        "\n",
        "        preprocessor = ColumnTransformer( transformers = [(\"num\", numeric_transformer, continious_features),\n",
        "                    (\"cat\", categorical_transformer, categorical_features)])\n",
        "\n",
        "        # Execute ElasticNet\n",
        "        lr = ElasticNet(alpha=alpha, l1_ratio=l1_ratio, random_state=42)\n",
        "        pipeline_lr = Pipeline([(\"col_transformer\", preprocessor), \n",
        "                            (\"estimator\", lr)])\n",
        "        pipeline_lr.fit(data['X_train'], data['y_train'])\n",
        "\n",
        "        # Evaluate Metrics\n",
        "        predicted_qualities = pipeline_lr.predict(data['X_test'])\n",
        "        (rmse, mae, r2) = eval_metrics(data['y_test'], predicted_qualities)\n",
        "\n",
        "        # Print out metrics\n",
        "        print(\"Elasticnet model (alpha=%f, l1_ratio=%f):\" % (alpha, l1_ratio))\n",
        "        print(\"  RMSE: %s\" % rmse)\n",
        "        print(\"  MAE: %s\" % mae)\n",
        "        print(\"  R2: %s\" % r2)\n",
        "\n",
        "        # Log parameter, metrics, and model to MLflow\n",
        "        mlflow.log_param('Model', 'ElasticNet')  \n",
        "        mlflow.log_param(\"alpha\", alpha)\n",
        "        mlflow.log_param(\"l1_ratio\", l1_ratio)\n",
        "        \n",
        "        mlflow.log_metric(\"rmse\", rmse)\n",
        "        mlflow.log_metric(\"r2\", r2)\n",
        "        mlflow.log_metric(\"mae\", mae)\n",
        "\n",
        "        mlflow.sklearn.log_model(pipeline_lr, \"model\")\n",
        "\n",
        "def train_random_forest(data, n_trees=100, max_depth=None):\n",
        "\n",
        "    # Train and track experiment   \n",
        "    with mlflow.start_run():\n",
        "\n",
        "        categorical_features = ['type', 'floor', 'city', 'canton']\n",
        "        continious_features = ['room_num', 'area_m2', 'floors_num', 'year_built', 'last_refurbishment', 'lat', 'lon']\n",
        "\n",
        "        numeric_transformer = Pipeline(steps=[(\"scaler\", StandardScaler())])\n",
        "\n",
        "        categorical_transformer = Pipeline(steps=[(\"onehot\", OneHotEncoder(handle_unknown=\"ignore\"))])\n",
        "\n",
        "        preprocessor = ColumnTransformer( transformers = [(\"num\", numeric_transformer, continious_features),\n",
        "                    (\"cat\", categorical_transformer, categorical_features)])\n",
        "        \n",
        "        # Execute RF\n",
        "        rf = RandomForestRegressor(n_estimators=n_trees, max_depth=max_depth, random_state=42)\n",
        "        pipeline_rf = Pipeline([(\"col_transformer\", preprocessor), \n",
        "                            (\"estimator\", rf)])\n",
        "        pipeline_rf.fit(data['X_train'], data['y_train'])\n",
        "\n",
        "        # Evaluate Metrics\n",
        "        predicted_qualities = pipeline_rf.predict(data['X_test'])\n",
        "        (rmse, mae, r2) = eval_metrics(data['y_test'], predicted_qualities)\n",
        "\n",
        "        # Print out metrics\n",
        "        print(\"Random Forest model (n_estimators={}, max_depth={}):\".format(n_trees, max_depth))\n",
        "        print(\"  RMSE: %s\" % rmse)\n",
        "        print(\"  MAE: %s\" % mae)\n",
        "        print(\"  R2: %s\" % r2)\n",
        "\n",
        "        # Log parameter, metrics, and model to MLflow\n",
        "        mlflow.log_param('Model', 'Random Forest')  \n",
        "        mlflow.log_param(\"n_estimators\", n_trees)\n",
        "        mlflow.log_param(\"max_depth\", max_depth)\n",
        "        \n",
        "        mlflow.log_metric(\"rmse\", rmse)\n",
        "        mlflow.log_metric(\"r2\", r2)\n",
        "        mlflow.log_metric(\"mae\", mae)\n",
        "\n",
        "        mlflow.sklearn.log_model(pipeline_rf, \"model\")\n",
        "\n",
        "#######################################\n",
        "\n",
        "if model_type == \"elastic_net\" or \"en\":\n",
        "  train_elasticnet(data, alpha, l1_ratio)\n",
        "elif model_type == \"random_forest\" or \"rf\":\n",
        "  train_random_forest(data, n_trees=100, max_depth=None)\n",
        "elif model_type == \"all\":\n",
        "  train_random_forest(data, n_trees=100, max_depth=None)\n",
        "  train_elasticnet(data, alpha, l1_ratio)"
      ],
      "metadata": {
        "id": "hh7D7deSnGwb",
        "colab": {
          "base_uri": "https://localhost:8080/"
        },
        "outputId": "2cb7dba7-0f85-44ec-dc50-3325db85838e"
      },
      "execution_count": null,
      "outputs": [
        {
          "output_type": "stream",
          "name": "stdout",
          "text": [
            "Overwriting mlflow_swisshousing_train.py\n"
          ]
        }
      ]
    },
    {
      "cell_type": "markdown",
      "source": [
        "If you are more comfortable using an IDE, you can first download your Colab notebook as a Python (.py) script.\n",
        "\n",
        "Click on File and navigate to the bottom of the selections:\n",
        "![image.png](data:image/png;base64,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)"
      ],
      "metadata": {
        "id": "F6Xi7gLQxVWX"
      }
    },
    {
      "cell_type": "markdown",
      "source": [
        "### Command-line Arguments"
      ],
      "metadata": {
        "id": "BUqOMcze7sBt"
      }
    },
    {
      "cell_type": "markdown",
      "source": [
        "**Positional (simple):**"
      ],
      "metadata": {
        "id": "yBtLaSXZxEVU"
      }
    },
    {
      "cell_type": "code",
      "source": [
        "# import sys\n",
        "\n",
        "# alpha = float(sys.argv[1]) if len(sys.argv) > 1 else 0.5\n",
        "# l1_ratio = float(sys.argv[2]) if len(sys.argv) > 2 else 0.5"
      ],
      "metadata": {
        "id": "dTu6W9MFph0V"
      },
      "execution_count": null,
      "outputs": []
    },
    {
      "cell_type": "markdown",
      "source": [
        "**Keyword & positional (recommended):**"
      ],
      "metadata": {
        "id": "cNJ0tRnVxH72"
      }
    },
    {
      "cell_type": "code",
      "source": [
        "# import argparse\n",
        "\n",
        "# parser = argparse.ArgumentParser()\n",
        "\n",
        "# parser.add_argument(\"-a\", \"--alpha\", type=float,\n",
        "#                     help=\"Regularization strength of penalty; should be between 0 and 1.\")\n",
        "# parser.add_argument(\"-l1\", \"--l1ratio\", type=float,\n",
        "#                     help=\"ElasticNet mixing parameter. If l1_ratio = 1, then L1 penalty. If l1_ratio = 0, then L2 penalty.\")\n",
        "\n",
        "# parser.parse_args()"
      ],
      "metadata": {
        "id": "WRoTKhQCqCux"
      },
      "execution_count": null,
      "outputs": []
    },
    {
      "cell_type": "markdown",
      "source": [
        "## MLFlow Projects"
      ],
      "metadata": {
        "id": "QlJxwbIiGz_U"
      }
    },
    {
      "cell_type": "markdown",
      "source": [
        "Let's go back to our housing value predictor model run example. Imagine that we were happy with our model and wanted to share it with colleagues/others, including those with less technical backgrounds.\n",
        "\n",
        "Let's try packaging what we did with a the `MLFlow Projects API`, and encoding what we did in a `MLProject` *yaml* file."
      ],
      "metadata": {
        "id": "pblonRRKVVJd"
      }
    },
    {
      "cell_type": "markdown",
      "source": [
        "### `MLProject` *YAML* file"
      ],
      "metadata": {
        "id": "JhXkcbJOVvSD"
      }
    },
    {
      "cell_type": "markdown",
      "source": [
        "First, let's look at the anatomy of an `MLProject` file."
      ],
      "metadata": {
        "id": "04ZLDXbvVqqj"
      }
    },
    {
      "cell_type": "markdown",
      "source": [
        "\n",
        "\n",
        "*   *MLProject* yaml file\n",
        "  - parameters\n",
        "  - entrypoints\n"
      ],
      "metadata": {
        "id": "2JaElYywHL4s"
      }
    },
    {
      "cell_type": "markdown",
      "source": [
        "```yaml\n",
        "name: My Project\n",
        "\n",
        "conda_env: my_env.yaml\n",
        "# Can have a docker_env instead of a conda_env, e.g.\n",
        "# docker_env:\n",
        "#    image:  mlflow-docker-example\n",
        "\n",
        "entry_points:\n",
        "  main:\n",
        "    parameters:\n",
        "      data_file: path\n",
        "      regularization: {type: float, default: 0.1}\n",
        "    command: \"python train.py -r {regularization} {data_file}\"\n",
        "  validate:\n",
        "    parameters:\n",
        "      data_file: path\n",
        "    command: \"python validate.py {data_file}\"\n",
        "```"
      ],
      "metadata": {
        "id": "PSeSIJDLHcQv"
      }
    },
    {
      "cell_type": "markdown",
      "source": [
        "[CLI](https://mlflow.org/docs/latest/cli.html#cli):"
      ],
      "metadata": {
        "id": "G6i1R2GBINZQ"
      }
    },
    {
      "cell_type": "code",
      "source": [
        "# command-line\n",
        "!mlflow run https://github.com/mlflow/mlflow-example.git -P alpha=0.5"
      ],
      "metadata": {
        "id": "4qBWCgHwG1BQ",
        "colab": {
          "base_uri": "https://localhost:8080/"
        },
        "outputId": "a5c8b1e0-0e27-4aa8-d2da-8a8762766832"
      },
      "execution_count": null,
      "outputs": [
        {
          "output_type": "stream",
          "name": "stdout",
          "text": [
            "2022/06/22 06:47:15 INFO mlflow.projects.utils: === Fetching project from https://github.com/mlflow/mlflow-example.git into /tmp/tmp1rewxdxk ===\n",
            "2022/06/22 06:47:16 INFO mlflow.utils.conda: Conda environment mlflow-1abc00771765dd9dd15731cbda4938c765fbb90b already exists.\n",
            "2022/06/22 06:47:16 INFO mlflow.projects.utils: === Created directory /tmp/tmpo49kea9p for downloading remote URIs passed to arguments of type 'path' ===\n",
            "2022/06/22 06:47:16 INFO mlflow.projects.backend.local: === Running command 'source activate mlflow-1abc00771765dd9dd15731cbda4938c765fbb90b 1>&2 && python train.py 0.5 0.1' in run with ID 'cec3bcb9d7d04ee8be0bc8acad222d3f' === \n",
            "/usr/local/envs/mlflow-1abc00771765dd9dd15731cbda4938c765fbb90b/lib/python3.7/site-packages/sklearn/utils/__init__.py:4: DeprecationWarning: Using or importing the ABCs from 'collections' instead of from 'collections.abc' is deprecated since Python 3.3,and in 3.9 it will stop working\n",
            "  from collections import Sequence\n",
            "/usr/local/envs/mlflow-1abc00771765dd9dd15731cbda4938c765fbb90b/lib/python3.7/site-packages/sklearn/model_selection/_split.py:18: DeprecationWarning: Using or importing the ABCs from 'collections' instead of from 'collections.abc' is deprecated since Python 3.3,and in 3.9 it will stop working\n",
            "  from collections import Iterable\n",
            "/usr/local/envs/mlflow-1abc00771765dd9dd15731cbda4938c765fbb90b/lib/python3.7/site-packages/sklearn/model_selection/_search.py:16: DeprecationWarning: Using or importing the ABCs from 'collections' instead of from 'collections.abc' is deprecated since Python 3.3,and in 3.9 it will stop working\n",
            "  from collections import Mapping, namedtuple, defaultdict, Sequence\n",
            "Elasticnet model (alpha=0.500000, l1_ratio=0.100000):\n",
            "  RMSE: 0.7947931019036529\n",
            "  MAE: 0.6189130834228138\n",
            "  R2: 0.18411668718221819\n",
            "2022/06/22 06:47:20 INFO mlflow.projects: === Run (ID 'cec3bcb9d7d04ee8be0bc8acad222d3f') succeeded ===\n"
          ]
        }
      ]
    },
    {
      "cell_type": "markdown",
      "source": [
        "Now let's try adapting it to our housing example!"
      ],
      "metadata": {
        "id": "FbKDMlZfWBtb"
      }
    },
    {
      "cell_type": "markdown",
      "source": [
        "## House price example - MLProject YAML file"
      ],
      "metadata": {
        "id": "weu6UtqeWEFk"
      }
    },
    {
      "cell_type": "markdown",
      "source": [
        "```yaml\n",
        "name: swiss_housing_price_prediction\n",
        "\n",
        "entry_points:\n",
        "  main:\n",
        "    parameters:\n",
        "      model_type: {type: str, default: 'all'}\n",
        "      alpha: {type: float, default: 0.5}\n",
        "      l1_ratio: {type: float, default: 0.5}\n",
        "    command: \"python mlflow_swisshousing_train.py {model_type} {alpha} {l1_ratio}\"\n",
        "```"
      ],
      "metadata": {
        "id": "R8msubpkWK5C"
      }
    },
    {
      "cell_type": "code",
      "source": [
        "%%writefile MLProject\n",
        "\n",
        "name: swiss_housing_price_prediction\n",
        "\n",
        "conda_env: mlflow_swisshousing.yml\n",
        "\n",
        "entry_points:\n",
        "  main:\n",
        "    parameters:\n",
        "      model_type: {type: str, default: 'all'}\n",
        "      alpha: {type: float, default: 0.5}\n",
        "      l1_ratio: {type: float, default: 0.5}\n",
        "    command: \"python mlflow_swisshousing_train.py {model_type} {alpha} {l1_ratio}\""
      ],
      "metadata": {
        "colab": {
          "base_uri": "https://localhost:8080/"
        },
        "id": "HG2v__ij9cjn",
        "outputId": "4571ca64-95e4-428f-8229-a829645e4781"
      },
      "execution_count": null,
      "outputs": [
        {
          "output_type": "stream",
          "name": "stdout",
          "text": [
            "Overwriting MLProject\n"
          ]
        }
      ]
    },
    {
      "cell_type": "markdown",
      "source": [
        "## Running MLFlow from our *MLProject* file"
      ],
      "metadata": {
        "id": "74ZNNCauyyPD"
      }
    },
    {
      "cell_type": "markdown",
      "source": [
        "Now let's try running our project, and try changing a parameter between runs."
      ],
      "metadata": {
        "id": "4B7BZShR1lPS"
      }
    },
    {
      "cell_type": "code",
      "source": [
        "!mlflow run . -P alpha=0.1"
      ],
      "metadata": {
        "colab": {
          "base_uri": "https://localhost:8080/"
        },
        "id": "76kMowfhqplv",
        "outputId": "c68acf21-20f2-4b5d-a9a6-34572991033e"
      },
      "execution_count": null,
      "outputs": [
        {
          "output_type": "stream",
          "name": "stdout",
          "text": [
            "2022/06/22 06:46:29 INFO mlflow.utils.conda: Conda environment mlflow-e0c446dee95e6fb93f2aecb483fbe9de4f283635 already exists.\n",
            "2022/06/22 06:46:29 INFO mlflow.projects.utils: === Created directory /tmp/tmpu18w59od for downloading remote URIs passed to arguments of type 'path' ===\n",
            "2022/06/22 06:46:29 INFO mlflow.projects.backend.local: === Running command 'source activate mlflow-e0c446dee95e6fb93f2aecb483fbe9de4f283635 1>&2 && python mlflow_swisshousing_train.py all 0.1 0.5' in run with ID '5b15e97a2e77454081b8e4af3e806056' === \n",
            "['mlflow_swisshousing_train.py', 'all', '0.1', '0.5']\n",
            "Elasticnet model (alpha=0.100000, l1_ratio=0.500000):\n",
            "  RMSE: 1140541.9286590088\n",
            "  MAE: 585480.8221569419\n",
            "  R2: 0.6197609279239793\n",
            "2022/06/22 06:46:34 INFO mlflow.projects: === Run (ID '5b15e97a2e77454081b8e4af3e806056') succeeded ===\n"
          ]
        }
      ]
    },
    {
      "cell_type": "code",
      "source": [
        "!mlflow run . -P alpha=0.4 -P l1_ratio=0.2"
      ],
      "metadata": {
        "colab": {
          "base_uri": "https://localhost:8080/"
        },
        "id": "QEVGou6VzA0o",
        "outputId": "3da2dc15-6416-4fb1-eb16-7c0bfcba4a81"
      },
      "execution_count": null,
      "outputs": [
        {
          "output_type": "stream",
          "name": "stdout",
          "text": [
            "2022/06/22 06:49:09 INFO mlflow.utils.conda: Conda environment mlflow-e0c446dee95e6fb93f2aecb483fbe9de4f283635 already exists.\n",
            "2022/06/22 06:49:09 INFO mlflow.projects.utils: === Created directory /tmp/tmpvvnlm04l for downloading remote URIs passed to arguments of type 'path' ===\n",
            "2022/06/22 06:49:09 INFO mlflow.projects.backend.local: === Running command 'source activate mlflow-e0c446dee95e6fb93f2aecb483fbe9de4f283635 1>&2 && python mlflow_swisshousing_train.py all 0.4 0.2' in run with ID '595c60a530b8419fa43d19fd872f9d0d' === \n",
            "['mlflow_swisshousing_train.py', 'all', '0.4', '0.2']\n",
            "Elasticnet model (alpha=0.400000, l1_ratio=0.200000):\n",
            "  RMSE: 1285325.3419525225\n",
            "  MAE: 672852.8881851577\n",
            "  R2: 0.5170964798757858\n",
            "2022/06/22 06:49:13 INFO mlflow.projects: === Run (ID '595c60a530b8419fa43d19fd872f9d0d') succeeded ===\n"
          ]
        }
      ]
    },
    {
      "cell_type": "markdown",
      "source": [
        "## Checking the results with `mlflow ui`"
      ],
      "metadata": {
        "id": "esqLA9D8zjDR"
      }
    },
    {
      "cell_type": "code",
      "source": [
        "!pip install pyngrok --quiet"
      ],
      "metadata": {
        "id": "79bG650czkhq"
      },
      "execution_count": null,
      "outputs": []
    },
    {
      "cell_type": "code",
      "source": [
        "from pyngrok import ngrok\n",
        "from getpass import getpass\n",
        "\n",
        "# Terminate open tunnels if exist\n",
        "ngrok.kill()\n",
        "\n",
        "# Setting the authtoken (optional)\n",
        "# Get your authtoken from https://dashboard.ngrok.com/auth\n",
        "NGROK_AUTH_TOKEN = getpass('Enter the ngrok authtoken: ')\n",
        "ngrok.set_auth_token(NGROK_AUTH_TOKEN)\n",
        "\n",
        "# Open an HTTPs tunnel on port 5000 for http://localhost:5000\n",
        "ngrok_tunnel = ngrok.connect(addr=\"5000\", proto=\"http\", bind_tls=True)\n",
        "print(\"MLflow Tracking UI:\", ngrok_tunnel.public_url)"
      ],
      "metadata": {
        "id": "nk3SrxMYzq9_"
      },
      "execution_count": null,
      "outputs": []
    },
    {
      "cell_type": "code",
      "source": [
        "!mlflow ui --port 5000"
      ],
      "metadata": {
        "id": "1QU3jHiRzsua"
      },
      "execution_count": null,
      "outputs": []
    },
    {
      "cell_type": "markdown",
      "source": [
        "## Running MLFlow Projects without the command line"
      ],
      "metadata": {
        "id": "4o-YuWo3zt2-"
      }
    },
    {
      "cell_type": "markdown",
      "source": [
        "Via Python:"
      ],
      "metadata": {
        "id": "cwooSU3hIUFZ"
      }
    },
    {
      "cell_type": "code",
      "source": [
        "# mlflow.run(\n",
        "#     uri,\n",
        "#     entry_point='main',\n",
        "#     version=None,\n",
        "#     parameters=None, #dict of params, e.g. {\"alpha\": 0.5, \"l1_ratio\": 0.01}\n",
        "#     docker_args=None,\n",
        "#     experiment_name=None,\n",
        "#     experiment_id=None,\n",
        "#     backend='local',\n",
        "#     backend_config=None,\n",
        "#     #storage_dir=None,\n",
        "#     synchronous=True,\n",
        "#     run_id=None,\n",
        "#     run_name=None,\n",
        "#     env_manager=\"local\" #conda is default\n",
        "#     )"
      ],
      "metadata": {
        "id": "RGxFvHJpIQgw"
      },
      "execution_count": null,
      "outputs": []
    },
    {
      "cell_type": "code",
      "source": [
        "import mlflow\n",
        "\n",
        "mlflow.projects.run(\n",
        "    uri = \"./\",\n",
        "    entry_point='main',\n",
        "    env_manager=\"conda\",\n",
        "    parameters={\"alpha\": 0.5, \"l1_ratio\": 0.01}\n",
        "    )"
      ],
      "metadata": {
        "id": "cJdvzBASgOnL"
      },
      "execution_count": null,
      "outputs": []
    }
  ]
}