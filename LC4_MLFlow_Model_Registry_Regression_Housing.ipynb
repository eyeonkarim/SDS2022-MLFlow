{
  "nbformat": 4,
  "nbformat_minor": 0,
  "metadata": {
    "colab": {
      "name": "LC4_MLFlow_Model_Registry_Regression_Housing.ipynb",
      "provenance": [],
      "collapsed_sections": [],
      "include_colab_link": true
    },
    "kernelspec": {
      "name": "python3",
      "display_name": "Python 3"
    },
    "language_info": {
      "name": "python"
    }
  },
  "cells": [
    {
      "cell_type": "markdown",
      "metadata": {
        "id": "view-in-github",
        "colab_type": "text"
      },
      "source": [
        "<a href=\"https://colab.research.google.com/github/eyeonkarim/SDS2022-MLFlow/blob/main/LC4_MLFlow_Model_Registry_Regression_Housing.ipynb\" target=\"_parent\"><img src=\"https://colab.research.google.com/assets/colab-badge.svg\" alt=\"Open In Colab\"/></a>"
      ]
    },
    {
      "cell_type": "markdown",
      "source": [
        "<center><a target=\"_blank\" href=\"https://www.sds2022.ch/\"><img src=\"https://drive.google.com/uc?id=1S7k7kTXs9qIylw3C7LA9rHkLycjlY8te\" width=\"500\" style=\"background:none; border:none; box-shadow:none;\" /></a> </center>\n",
        "\n",
        "<center><a target=\"_blank\" href=\"http://www.sit.academy\"><img src=\"https://drive.google.com/uc?id=1x9_jQgLhozCSWDSaOdVxKmxOEAe_OLgV\" width=\"250\" style=\"background:none; border:none; box-shadow:none;\" /></a> </center>\n",
        "\n",
        "_____\n",
        "\n",
        "<center> <h1> Live Coding  </h1> </center>\n",
        "\n",
        "<p style=\"margin-bottom:1cm;\"></p>\n",
        "\n",
        "_____\n",
        "\n",
        "<center>SIT Academy, 2022</center>\n",
        "\n"
      ],
      "metadata": {
        "id": "sLm08r11jXhq"
      }
    },
    {
      "cell_type": "markdown",
      "source": [
        "# MLFlow Workshop - Sequence 4 - Model Registry API\n",
        "\n",
        "MLflow Registry offers a centralized model store, set of APIs, and UI, to collaboratively manage the full lifecycle of an MLflow Model. \n",
        "\n",
        "It provides model lineage (which MLflow experiment and run produced the model), model versioning, stage transitions (for example from staging to production or archiving), and annotations."
      ],
      "metadata": {
        "id": "X0G6MEn4SfoL"
      }
    },
    {
      "cell_type": "markdown",
      "source": [
        "## Install dependencies"
      ],
      "metadata": {
        "id": "Oh4f6QesyM-W"
      }
    },
    {
      "cell_type": "code",
      "source": [
        "!pip -q install mlflow boto3 pyngrok"
      ],
      "metadata": {
        "id": "j8J4Xx5QS5WN",
        "colab": {
          "base_uri": "https://localhost:8080/"
        },
        "outputId": "5a31ade8-c462-403b-c69e-6d5bc489ba7d"
      },
      "execution_count": null,
      "outputs": [
        {
          "output_type": "stream",
          "name": "stdout",
          "text": [
            "\u001b[K     |████████████████████████████████| 17.8 MB 407 kB/s \n",
            "\u001b[K     |████████████████████████████████| 132 kB 49.0 MB/s \n",
            "\u001b[K     |████████████████████████████████| 745 kB 44.5 MB/s \n",
            "\u001b[K     |████████████████████████████████| 209 kB 64.2 MB/s \n",
            "\u001b[K     |████████████████████████████████| 146 kB 69.6 MB/s \n",
            "\u001b[K     |████████████████████████████████| 596 kB 60.0 MB/s \n",
            "\u001b[K     |████████████████████████████████| 181 kB 55.7 MB/s \n",
            "\u001b[K     |████████████████████████████████| 81 kB 9.0 MB/s \n",
            "\u001b[K     |████████████████████████████████| 79 kB 8.2 MB/s \n",
            "\u001b[K     |████████████████████████████████| 54 kB 2.6 MB/s \n",
            "\u001b[K     |████████████████████████████████| 63 kB 1.6 MB/s \n",
            "\u001b[K     |████████████████████████████████| 8.9 MB 43.5 MB/s \n",
            "\u001b[K     |████████████████████████████████| 79 kB 7.4 MB/s \n",
            "\u001b[K     |████████████████████████████████| 127 kB 54.2 MB/s \n",
            "\u001b[K     |████████████████████████████████| 78 kB 6.0 MB/s \n",
            "\u001b[?25h  Building wheel for databricks-cli (setup.py) ... \u001b[?25l\u001b[?25hdone\n",
            "  Building wheel for pyngrok (setup.py) ... \u001b[?25l\u001b[?25hdone\n",
            "\u001b[31mERROR: pip's dependency resolver does not currently take into account all the packages that are installed. This behaviour is the source of the following dependency conflicts.\n",
            "datascience 0.10.6 requires folium==0.2.1, but you have folium 0.8.3 which is incompatible.\u001b[0m\n"
          ]
        }
      ]
    },
    {
      "cell_type": "markdown",
      "source": [
        "## Check and see if SQL is installed"
      ],
      "metadata": {
        "id": "fw3wxzK3bNuA"
      }
    },
    {
      "cell_type": "code",
      "source": [
        "#conda install -c conda-forge ipython-sql #must install to kernel if running locally\n",
        "%load_ext sql"
      ],
      "metadata": {
        "id": "ojQOJV_fWHq1"
      },
      "execution_count": null,
      "outputs": []
    },
    {
      "cell_type": "code",
      "source": [
        "from pyngrok import ngrok\n",
        "from getpass import getpass"
      ],
      "metadata": {
        "id": "2iJKj1UwTzuB"
      },
      "execution_count": null,
      "outputs": []
    },
    {
      "cell_type": "code",
      "source": [
        "def start_tunnel():\n",
        "  # Terminate open tunnels if exist\n",
        "  ngrok.kill()\n",
        "  # Get your authtoken from https://dashboard.ngrok.com/auth\n",
        "  NGROK_AUTH_TOKEN = getpass('Enter the ngrok authtoken: ')\n",
        "  ngrok.set_auth_token(NGROK_AUTH_TOKEN)\n",
        "  # Open an HTTPs tunnel on port 5000 for http://localhost:5000\n",
        "  ngrok_tunnel = ngrok.connect(addr=\"5000\", proto=\"http\", bind_tls=True)\n",
        "  print(\"MLflow Tracking UI:\", ngrok_tunnel.public_url)"
      ],
      "metadata": {
        "id": "nk3SrxMYzq9_"
      },
      "execution_count": null,
      "outputs": []
    },
    {
      "cell_type": "markdown",
      "source": [
        "## Using an SQLite server for tracking (locally)"
      ],
      "metadata": {
        "id": "SfOUbgjfV6-5"
      }
    },
    {
      "cell_type": "code",
      "source": [
        "!touch mlflow.sqlite #this will only persist for the duration of the Colab session unless you move it to your Google Drive"
      ],
      "metadata": {
        "id": "ox_abJgdV_3e"
      },
      "execution_count": null,
      "outputs": []
    },
    {
      "cell_type": "markdown",
      "source": [
        "We need to define an environment variable `MLFLOW_TRACKING_URI` which all subsequent MLFlow runs will use for its tracking server."
      ],
      "metadata": {
        "id": "dTJjcBzuKe0-"
      }
    },
    {
      "cell_type": "code",
      "source": [
        "%env MLFLOW_TRACKING_URI=http://localhost:5000"
      ],
      "metadata": {
        "colab": {
          "base_uri": "https://localhost:8080/"
        },
        "id": "RQjzxzo9V1l6",
        "outputId": "65e1a97a-c39b-4635-88f6-d197e9b23c47"
      },
      "execution_count": null,
      "outputs": [
        {
          "output_type": "stream",
          "name": "stdout",
          "text": [
            "env: MLFLOW_TRACKING_URI=http://localhost:5000\n"
          ]
        }
      ]
    },
    {
      "cell_type": "markdown",
      "source": [
        "Then, we can run the MLFlow server in the background (so we can run other cells in the notebook as well):"
      ],
      "metadata": {
        "id": "Tj96DSSnKqBp"
      }
    },
    {
      "cell_type": "code",
      "source": [
        "get_ipython().system_raw(\n",
        "    \"mlflow server --backend-store-uri sqlite:///mlflow.sqlite --host 0.0.0 --port 5000 --default-artifact-root /content/mlruns/ &\"\n",
        "    )"
      ],
      "metadata": {
        "id": "TguIdYzEWvHk"
      },
      "execution_count": null,
      "outputs": []
    },
    {
      "cell_type": "markdown",
      "source": [
        "Now let's do a test run:"
      ],
      "metadata": {
        "id": "c7DFfJG7K5UH"
      }
    },
    {
      "cell_type": "code",
      "source": [
        "!mlflow run --env-manager=local https://github.com/SIT-Academy/sds2022_mlflow_workshop.git#src/mlproject_simple_run/ -P alpha=0.2"
      ],
      "metadata": {
        "colab": {
          "base_uri": "https://localhost:8080/"
        },
        "id": "PwOLf6gFVvac",
        "outputId": "685399f9-4c8c-4a97-e470-eca5072be2de"
      },
      "execution_count": null,
      "outputs": [
        {
          "output_type": "stream",
          "name": "stdout",
          "text": [
            "/bin/bash: mlflow: command not found\n"
          ]
        }
      ]
    },
    {
      "cell_type": "code",
      "source": [
        "start_tunnel()"
      ],
      "metadata": {
        "colab": {
          "base_uri": "https://localhost:8080/"
        },
        "id": "Wl58WYoQWuM6",
        "outputId": "99b0a98b-5fa6-44a4-e763-a19a1f93bfc9"
      },
      "execution_count": null,
      "outputs": [
        {
          "output_type": "stream",
          "name": "stdout",
          "text": [
            "Enter the ngrok authtoken: ··········\n",
            "MLflow Tracking UI: https://9abc-35-185-229-27.ngrok.io\n"
          ]
        }
      ]
    },
    {
      "cell_type": "code",
      "source": [
        "# To kill MLFlow Server instances running in the background, uncomment & run:\n",
        "#!pkill -f gunicorn"
      ],
      "metadata": {
        "id": "Jn8BuDcxYZ2q"
      },
      "execution_count": null,
      "outputs": []
    },
    {
      "cell_type": "markdown",
      "source": [
        "## Using an SQL tracking server & S3 bucket for artifact storage"
      ],
      "metadata": {
        "id": "hsIi0HfihOvd"
      }
    },
    {
      "cell_type": "markdown",
      "source": [
        "Here we will provide you access to an S3 bucket (for cloud object storage) for the workshop.\n",
        "\n",
        "*If you are interested in your own (free, AWS-substitute) bucket(s), you can sign up for 150 GB of storage on [Storj](https://www.storj.io/).*"
      ],
      "metadata": {
        "id": "1p-duf8hiXWA"
      }
    },
    {
      "cell_type": "code",
      "source": [
        "%env AWS_ACCESS_KEY_ID=jwhttmo4qhgfncxxdftqlwpxfaia\n",
        "%env AWS_SECRET_ACCESS_KEY=jyhyd7bxmbax3w3mzfi55tscfk5t34rotzj3nbg2e4nwpofxwuh2y\n",
        "\n",
        "%env MLFLOW_S3_ENDPOINT_URL=https://gateway.eu1.storjshare.io/"
      ],
      "metadata": {
        "colab": {
          "base_uri": "https://localhost:8080/"
        },
        "id": "0m39kNEEtjP3",
        "outputId": "5236f19d-1173-4449-a0f8-22fc1b4edd0b"
      },
      "execution_count": null,
      "outputs": [
        {
          "output_type": "stream",
          "name": "stdout",
          "text": [
            "env: AWS_ACCESS_KEY_ID=jwhttmo4qhgfncxxdftqlwpxfaia\n",
            "env: AWS_SECRET_ACCESS_KEY=jyhyd7bxmbax3w3mzfi55tscfk5t34rotzj3nbg2e4nwpofxwuh2y\n",
            "env: MLFLOW_S3_ENDPOINT_URL=https://gateway.eu1.storjshare.io/\n"
          ]
        }
      ]
    },
    {
      "cell_type": "code",
      "source": [
        "#Note: make sure to unset the `MLFLOW_TRACKING_URI` variable first if set earlier\n",
        "#     to have it function properly as a remote tracking server!\n",
        "\n",
        "%env MLFLOW_TRACKING_URI="
      ],
      "metadata": {
        "colab": {
          "base_uri": "https://localhost:8080/"
        },
        "id": "vUiwvoXCT8Kl",
        "outputId": "c1573963-c077-4bf5-c83f-6e60d450799b"
      },
      "execution_count": null,
      "outputs": [
        {
          "output_type": "stream",
          "name": "stdout",
          "text": [
            "env: MLFLOW_TRACKING_URI=\n"
          ]
        }
      ]
    },
    {
      "cell_type": "code",
      "source": [
        "start_tunnel()"
      ],
      "metadata": {
        "id": "wEms3vIwLPBn"
      },
      "execution_count": null,
      "outputs": []
    },
    {
      "cell_type": "code",
      "source": [
        "!mlflow server --backend-store-uri sqlite:///mlflow.sqlite --default-artifact-root s3://demobucket --gunicorn-opts \"--log-level debug\""
      ],
      "metadata": {
        "colab": {
          "base_uri": "https://localhost:8080/"
        },
        "id": "br2P3IEzhRjB",
        "outputId": "1ce6862e-cabc-441b-e76b-53e472ee7e88"
      },
      "execution_count": null,
      "outputs": [
        {
          "output_type": "stream",
          "name": "stdout",
          "text": [
            "[2022-06-19 18:26:59 +0000] [319] [DEBUG] Current configuration:\n",
            "  config: ./gunicorn.conf.py\n",
            "  wsgi_app: None\n",
            "  bind: ['127.0.0.1:5000']\n",
            "  backlog: 2048\n",
            "  workers: 4\n",
            "  worker_class: sync\n",
            "  threads: 1\n",
            "  worker_connections: 1000\n",
            "  max_requests: 0\n",
            "  max_requests_jitter: 0\n",
            "  timeout: 30\n",
            "  graceful_timeout: 30\n",
            "  keepalive: 2\n",
            "  limit_request_line: 4094\n",
            "  limit_request_fields: 100\n",
            "  limit_request_field_size: 8190\n",
            "  reload: False\n",
            "  reload_engine: auto\n",
            "  reload_extra_files: []\n",
            "  spew: False\n",
            "  check_config: False\n",
            "  print_config: False\n",
            "  preload_app: False\n",
            "  sendfile: None\n",
            "  reuse_port: False\n",
            "  chdir: /content\n",
            "  daemon: False\n",
            "  raw_env: []\n",
            "  pidfile: None\n",
            "  worker_tmp_dir: None\n",
            "  user: 0\n",
            "  group: 0\n",
            "  umask: 0\n",
            "  initgroups: False\n",
            "  tmp_upload_dir: None\n",
            "  secure_scheme_headers: {'X-FORWARDED-PROTOCOL': 'ssl', 'X-FORWARDED-PROTO': 'https', 'X-FORWARDED-SSL': 'on'}\n",
            "  forwarded_allow_ips: ['127.0.0.1']\n",
            "  accesslog: None\n",
            "  disable_redirect_access_to_syslog: False\n",
            "  access_log_format: %(h)s %(l)s %(u)s %(t)s \"%(r)s\" %(s)s %(b)s \"%(f)s\" \"%(a)s\"\n",
            "  errorlog: -\n",
            "  loglevel: debug\n",
            "  capture_output: False\n",
            "  logger_class: gunicorn.glogging.Logger\n",
            "  logconfig: None\n",
            "  logconfig_dict: {}\n",
            "  syslog_addr: udp://localhost:514\n",
            "  syslog: False\n",
            "  syslog_prefix: None\n",
            "  syslog_facility: user\n",
            "  enable_stdio_inheritance: False\n",
            "  statsd_host: None\n",
            "  dogstatsd_tags: \n",
            "  statsd_prefix: \n",
            "  proc_name: None\n",
            "  default_proc_name: mlflow.server:app\n",
            "  pythonpath: None\n",
            "  paste: None\n",
            "  on_starting: <function OnStarting.on_starting at 0x7f032ef0b830>\n",
            "  on_reload: <function OnReload.on_reload at 0x7f032ef0b950>\n",
            "  when_ready: <function WhenReady.when_ready at 0x7f032ef0ba70>\n",
            "  pre_fork: <function Prefork.pre_fork at 0x7f032ef0bb90>\n",
            "  post_fork: <function Postfork.post_fork at 0x7f032ef0bcb0>\n",
            "  post_worker_init: <function PostWorkerInit.post_worker_init at 0x7f032ef0bdd0>\n",
            "  worker_int: <function WorkerInt.worker_int at 0x7f032ef0bef0>\n",
            "  worker_abort: <function WorkerAbort.worker_abort at 0x7f032eeab050>\n",
            "  pre_exec: <function PreExec.pre_exec at 0x7f032eeab170>\n",
            "  pre_request: <function PreRequest.pre_request at 0x7f032eeab290>\n",
            "  post_request: <function PostRequest.post_request at 0x7f032eeab320>\n",
            "  child_exit: <function ChildExit.child_exit at 0x7f032eeab440>\n",
            "  worker_exit: <function WorkerExit.worker_exit at 0x7f032eeab560>\n",
            "  nworkers_changed: <function NumWorkersChanged.nworkers_changed at 0x7f032eeab680>\n",
            "  on_exit: <function OnExit.on_exit at 0x7f032eeab7a0>\n",
            "  proxy_protocol: False\n",
            "  proxy_allow_ips: ['127.0.0.1']\n",
            "  keyfile: None\n",
            "  certfile: None\n",
            "  ssl_version: 2\n",
            "  cert_reqs: 0\n",
            "  ca_certs: None\n",
            "  suppress_ragged_eofs: True\n",
            "  do_handshake_on_connect: False\n",
            "  ciphers: None\n",
            "  raw_paste_global_conf: []\n",
            "  strip_header_spaces: False\n",
            "[2022-06-19 18:26:59 +0000] [319] [INFO] Starting gunicorn 20.1.0\n",
            "[2022-06-19 18:26:59 +0000] [319] [DEBUG] Arbiter booted\n",
            "[2022-06-19 18:26:59 +0000] [319] [INFO] Listening at: http://127.0.0.1:5000 (319)\n",
            "[2022-06-19 18:26:59 +0000] [319] [INFO] Using worker: sync\n",
            "[2022-06-19 18:26:59 +0000] [322] [INFO] Booting worker with pid: 322\n",
            "[2022-06-19 18:26:59 +0000] [323] [INFO] Booting worker with pid: 323\n",
            "[2022-06-19 18:26:59 +0000] [324] [INFO] Booting worker with pid: 324\n",
            "[2022-06-19 18:26:59 +0000] [325] [INFO] Booting worker with pid: 325\n",
            "[2022-06-19 18:26:59 +0000] [319] [DEBUG] 4 workers\n",
            "[2022-06-19 18:27:03 +0000] [323] [DEBUG] GET /\n",
            "[2022-06-19 18:27:03 +0000] [323] [DEBUG] GET /static-files/fontawesome/css/fontawesome-all.min.css\n",
            "[2022-06-19 18:27:03 +0000] [322] [DEBUG] GET /static-files/static/js/main.de7a7407.js\n",
            "[2022-06-19 18:27:03 +0000] [323] [DEBUG] GET /static-files/static/css/main.477e634f.css\n",
            "[2022-06-19 18:27:06 +0000] [323] [DEBUG] GET /ajax-api/2.0/preview/mlflow/experiments/list\n",
            "[2022-06-19 18:27:06 +0000] [324] [DEBUG] GET /static-files/static/media/home-logo.b14e3dd7dc63ea1769c6.png\n",
            "[2022-06-19 18:27:06 +0000] [325] [DEBUG] GET /static-files/favicon.ico\n",
            "[2022-06-19 18:27:07 +0000] [324] [DEBUG] GET /static-files/manifest.json\n",
            "[2022-06-19 18:27:07 +0000] [323] [DEBUG] GET /ajax-api/2.0/preview/mlflow/experiments/get\n",
            "[2022-06-19 18:27:07 +0000] [322] [DEBUG] POST /ajax-api/2.0/preview/mlflow/runs/search\n",
            "[2022-06-19 18:27:07 +0000] [324] [DEBUG] GET /static-files/fontawesome/webfonts/fa-regular-400.woff2\n",
            "[2022-06-19 18:27:07 +0000] [325] [DEBUG] GET /static-files/static/media/sync.2311451cd302a2eb77d8480e1c833d6d.svg\n",
            "[2022-06-19 18:27:07 +0000] [324] [DEBUG] GET /static-files/fontawesome/webfonts/fa-solid-900.woff2\n",
            "[2022-06-19 18:27:07 +0000] [325] [DEBUG] GET /static-files/static/media/filter-icon.22b118a32b85d651dbdb30c1055779f3.svg\n",
            "[2022-06-19 18:27:07 +0000] [325] [DEBUG] GET /static-files/static/media/project.f6fa7033a15bb11d5b15141e1007edfa.svg\n",
            "[2022-06-19 18:27:07 +0000] [325] [DEBUG] GET /ajax-api/2.0/preview/mlflow/model-versions/search\n",
            "[2022-06-19 18:27:08 +0000] [324] [DEBUG] POST /api/2.0/mlflow/runs/create\n",
            "[2022-06-19 18:27:09 +0000] [324] [DEBUG] POST /api/2.0/mlflow/runs/log-batch\n",
            "[2022-06-19 18:27:09 +0000] [322] [DEBUG] POST /api/2.0/mlflow/runs/set-tag\n",
            "[2022-06-19 18:27:09 +0000] [322] [DEBUG] GET /api/2.0/mlflow/runs/get\n",
            "[2022-06-19 18:27:11 +0000] [323] [DEBUG] GET /api/2.0/mlflow/runs/get\n",
            "[2022-06-19 18:27:11 +0000] [324] [DEBUG] POST /api/2.0/mlflow/runs/update\n",
            "[2022-06-19 18:27:11 +0000] [325] [DEBUG] GET /api/2.0/mlflow/runs/get\n",
            "[2022-06-19 18:27:11 +0000] [322] [DEBUG] POST /api/2.0/mlflow/runs/log-parameter\n",
            "[2022-06-19 18:27:11 +0000] [325] [DEBUG] POST /api/2.0/mlflow/runs/log-parameter\n",
            "[2022-06-19 18:27:11 +0000] [324] [DEBUG] POST /api/2.0/mlflow/runs/log-metric\n",
            "[2022-06-19 18:27:12 +0000] [323] [DEBUG] POST /api/2.0/mlflow/runs/log-metric\n",
            "[2022-06-19 18:27:12 +0000] [323] [DEBUG] POST /api/2.0/mlflow/runs/log-metric\n",
            "[2022-06-19 18:27:14 +0000] [322] [DEBUG] GET /api/2.0/mlflow/runs/get\n",
            "[2022-06-19 18:27:14 +0000] [325] [DEBUG] POST /api/2.0/mlflow/runs/update\n",
            "[2022-06-19 18:27:15 +0000] [325] [DEBUG] GET /api/2.0/mlflow/runs/get\n",
            "[2022-06-19 18:27:15 +0000] [323] [DEBUG] POST /api/2.0/mlflow/runs/update\n",
            "[2022-06-19 18:27:18 +0000] [324] [DEBUG] POST /ajax-api/2.0/preview/mlflow/runs/search\n",
            "[2022-06-19 18:27:18 +0000] [323] [DEBUG] GET /ajax-api/2.0/preview/mlflow/model-versions/search\n",
            "[2022-06-19 18:27:19 +0000] [324] [DEBUG] POST /ajax-api/2.0/preview/mlflow/runs/search\n",
            "[2022-06-19 18:27:19 +0000] [325] [DEBUG] GET /ajax-api/2.0/preview/mlflow/model-versions/search\n",
            "[2022-06-19 18:27:22 +0000] [325] [DEBUG] POST /ajax-api/2.0/preview/mlflow/runs/search\n",
            "[2022-06-19 18:28:25 +0000] [324] [DEBUG] POST /api/2.0/mlflow/runs/create\n",
            "[2022-06-19 18:28:26 +0000] [325] [DEBUG] POST /api/2.0/mlflow/runs/log-batch\n",
            "[2022-06-19 18:28:26 +0000] [323] [DEBUG] POST /api/2.0/mlflow/runs/set-tag\n",
            "[2022-06-19 18:28:26 +0000] [322] [DEBUG] GET /api/2.0/mlflow/runs/get\n",
            "[2022-06-19 18:28:27 +0000] [324] [DEBUG] GET /api/2.0/mlflow/runs/get\n",
            "[2022-06-19 18:28:27 +0000] [322] [DEBUG] POST /api/2.0/mlflow/runs/update\n",
            "[2022-06-19 18:28:27 +0000] [322] [DEBUG] GET /api/2.0/mlflow/runs/get\n",
            "[2022-06-19 18:28:28 +0000] [325] [DEBUG] POST /api/2.0/mlflow/runs/log-parameter\n",
            "[2022-06-19 18:28:28 +0000] [324] [DEBUG] POST /api/2.0/mlflow/runs/log-parameter\n",
            "[2022-06-19 18:28:28 +0000] [323] [DEBUG] POST /api/2.0/mlflow/runs/log-metric\n",
            "[2022-06-19 18:28:28 +0000] [325] [DEBUG] POST /api/2.0/mlflow/runs/log-metric\n",
            "[2022-06-19 18:28:28 +0000] [324] [DEBUG] POST /api/2.0/mlflow/runs/log-metric\n",
            "[2022-06-19 18:28:30 +0000] [323] [DEBUG] GET /api/2.0/mlflow/runs/get\n",
            "[2022-06-19 18:28:32 +0000] [322] [DEBUG] POST /api/2.0/mlflow/runs/log-model\n",
            "[2022-06-19 18:28:32 +0000] [325] [DEBUG] POST /api/2.0/mlflow/runs/update\n",
            "[2022-06-19 18:28:33 +0000] [324] [DEBUG] GET /api/2.0/mlflow/runs/get\n",
            "[2022-06-19 18:28:33 +0000] [322] [DEBUG] POST /api/2.0/mlflow/runs/update\n",
            "[2022-06-19 18:28:51 +0000] [325] [DEBUG] POST /ajax-api/2.0/preview/mlflow/runs/search\n",
            "[2022-06-19 18:28:51 +0000] [324] [DEBUG] GET /static-files/static/media/logged-model.dd9b21ff4fb07f3cadeada8046a2693b.svg\n",
            "[2022-06-19 18:28:51 +0000] [323] [DEBUG] GET /ajax-api/2.0/preview/mlflow/model-versions/search\n",
            "[2022-06-19 18:28:52 +0000] [322] [DEBUG] POST /ajax-api/2.0/preview/mlflow/runs/search\n",
            "[2022-06-19 18:28:53 +0000] [322] [DEBUG] GET /ajax-api/2.0/preview/mlflow/runs/get\n",
            "[2022-06-19 18:28:53 +0000] [324] [DEBUG] GET /ajax-api/2.0/preview/mlflow/experiments/get\n",
            "[2022-06-19 18:28:53 +0000] [323] [DEBUG] GET /ajax-api/2.0/preview/mlflow/model-versions/search\n",
            "[2022-06-19 18:28:53 +0000] [322] [DEBUG] GET /ajax-api/2.0/preview/mlflow/artifacts/list\n",
            "[2022-06-19 18:28:54 +0000] [323] [DEBUG] GET /ajax-api/2.0/preview/mlflow/artifacts/list\n",
            "[2022-06-19 18:28:55 +0000] [322] [DEBUG] GET /ajax-api/2.0/preview/mlflow/registered-models/list\n",
            "[2022-06-19 18:28:55 +0000] [323] [DEBUG] GET /get-artifact\n",
            "[2022-06-19 18:29:03 +0000] [323] [DEBUG] GET /ajax-api/2.0/preview/mlflow/model-versions/search\n",
            "[2022-06-19 18:29:14 +0000] [323] [DEBUG] GET /ajax-api/2.0/preview/mlflow/model-versions/search\n",
            "[2022-06-19 18:29:24 +0000] [324] [DEBUG] GET /ajax-api/2.0/preview/mlflow/model-versions/search\n",
            "[2022-06-19 18:29:26 +0000] [325] [DEBUG] POST /api/2.0/mlflow/runs/create\n",
            "[2022-06-19 18:29:26 +0000] [323] [DEBUG] POST /api/2.0/mlflow/runs/log-batch\n",
            "[2022-06-19 18:29:26 +0000] [322] [DEBUG] POST /api/2.0/mlflow/runs/set-tag\n",
            "[2022-06-19 18:29:26 +0000] [322] [DEBUG] GET /api/2.0/mlflow/runs/get\n",
            "[2022-06-19 18:29:28 +0000] [322] [DEBUG] GET /api/2.0/mlflow/runs/get\n",
            "[2022-06-19 18:29:28 +0000] [322] [DEBUG] POST /api/2.0/mlflow/runs/update\n",
            "[2022-06-19 18:29:28 +0000] [324] [DEBUG] GET /api/2.0/mlflow/runs/get\n",
            "[2022-06-19 18:29:28 +0000] [324] [DEBUG] POST /api/2.0/mlflow/runs/log-parameter\n",
            "[2022-06-19 18:29:28 +0000] [325] [DEBUG] POST /api/2.0/mlflow/runs/log-parameter\n",
            "[2022-06-19 18:29:28 +0000] [323] [DEBUG] POST /api/2.0/mlflow/runs/log-metric\n",
            "[2022-06-19 18:29:28 +0000] [324] [DEBUG] POST /api/2.0/mlflow/runs/log-metric\n",
            "[2022-06-19 18:29:29 +0000] [322] [DEBUG] POST /api/2.0/mlflow/runs/log-metric\n",
            "[2022-06-19 18:29:31 +0000] [322] [DEBUG] GET /api/2.0/mlflow/runs/get\n",
            "[2022-06-19 18:29:32 +0000] [323] [DEBUG] POST /api/2.0/mlflow/runs/log-model\n",
            "[2022-06-19 18:29:32 +0000] [324] [DEBUG] POST /api/2.0/mlflow/runs/update\n",
            "[2022-06-19 18:29:33 +0000] [325] [DEBUG] GET /api/2.0/mlflow/runs/get\n",
            "[2022-06-19 18:29:33 +0000] [322] [DEBUG] POST /api/2.0/mlflow/runs/update\n",
            "[2022-06-19 18:29:34 +0000] [322] [DEBUG] GET /ajax-api/2.0/preview/mlflow/model-versions/search\n",
            "[2022-06-19 18:29:44 +0000] [322] [DEBUG] GET /ajax-api/2.0/preview/mlflow/model-versions/search\n",
            "[2022-06-19 18:29:53 +0000] [323] [DEBUG] GET /ajax-api/2.0/preview/mlflow/model-versions/search\n",
            "[2022-06-19 18:29:56 +0000] [323] [DEBUG] GET /ajax-api/2.0/preview/mlflow/experiments/list\n",
            "[2022-06-19 18:29:56 +0000] [325] [DEBUG] POST /ajax-api/2.0/preview/mlflow/runs/search\n",
            "[2022-06-19 18:29:56 +0000] [322] [DEBUG] GET /ajax-api/2.0/preview/mlflow/experiments/get\n",
            "[2022-06-19 18:29:57 +0000] [325] [DEBUG] GET /ajax-api/2.0/preview/mlflow/model-versions/search\n",
            "[2022-06-19 18:29:58 +0000] [323] [DEBUG] GET /ajax-api/2.0/preview/mlflow/runs/get\n",
            "[2022-06-19 18:29:58 +0000] [324] [DEBUG] GET /ajax-api/2.0/preview/mlflow/model-versions/search\n",
            "[2022-06-19 18:29:58 +0000] [322] [DEBUG] GET /ajax-api/2.0/preview/mlflow/experiments/get\n",
            "[2022-06-19 18:29:58 +0000] [325] [DEBUG] GET /ajax-api/2.0/preview/mlflow/artifacts/list\n",
            "[2022-06-19 18:29:59 +0000] [323] [DEBUG] GET /ajax-api/2.0/preview/mlflow/artifacts/list\n",
            "[2022-06-19 18:29:59 +0000] [323] [DEBUG] GET /get-artifact\n",
            "[2022-06-19 18:29:59 +0000] [322] [DEBUG] GET /ajax-api/2.0/preview/mlflow/registered-models/list\n",
            "[2022-06-19 18:30:08 +0000] [323] [DEBUG] GET /ajax-api/2.0/preview/mlflow/model-versions/search\n",
            "[2022-06-19 18:30:18 +0000] [322] [DEBUG] GET /ajax-api/2.0/preview/mlflow/model-versions/search\n",
            "[2022-06-19 18:30:28 +0000] [322] [DEBUG] GET /ajax-api/2.0/preview/mlflow/model-versions/search\n",
            "[2022-06-19 18:30:38 +0000] [322] [DEBUG] GET /ajax-api/2.0/preview/mlflow/model-versions/search\n",
            "[2022-06-19 18:30:42 +0000] [324] [DEBUG] GET /get-artifact\n",
            "[2022-06-19 18:30:44 +0000] [322] [DEBUG] GET /get-artifact\n",
            "[2022-06-19 18:30:44 +0000] [325] [DEBUG] GET /get-artifact\n",
            "[2022-06-19 18:30:45 +0000] [322] [DEBUG] GET /ajax-api/2.0/preview/mlflow/registered-models/list\n",
            "[2022-06-19 18:30:51 +0000] [322] [DEBUG] GET /ajax-api/2.0/preview/mlflow/experiments/list\n",
            "[2022-06-19 18:30:51 +0000] [325] [DEBUG] GET /ajax-api/2.0/preview/mlflow/experiments/get\n",
            "[2022-06-19 18:30:51 +0000] [323] [DEBUG] POST /ajax-api/2.0/preview/mlflow/runs/search\n",
            "[2022-06-19 18:30:52 +0000] [324] [DEBUG] GET /ajax-api/2.0/preview/mlflow/model-versions/search\n",
            "[2022-06-19 18:30:54 +0000] [324] [DEBUG] GET /ajax-api/2.0/preview/mlflow/runs/get\n",
            "[2022-06-19 18:30:54 +0000] [322] [DEBUG] GET /ajax-api/2.0/preview/mlflow/experiments/get\n",
            "[2022-06-19 18:30:54 +0000] [323] [DEBUG] GET /ajax-api/2.0/preview/mlflow/model-versions/search\n",
            "[2022-06-19 18:30:55 +0000] [325] [DEBUG] GET /ajax-api/2.0/preview/mlflow/artifacts/list\n",
            "[2022-06-19 18:30:55 +0000] [322] [DEBUG] GET /ajax-api/2.0/preview/mlflow/artifacts/list\n",
            "[2022-06-19 18:30:56 +0000] [322] [DEBUG] GET /ajax-api/2.0/preview/mlflow/registered-models/list\n",
            "[2022-06-19 18:30:59 +0000] [323] [DEBUG] GET /ajax-api/2.0/preview/mlflow/experiments/list\n",
            "[2022-06-19 18:30:59 +0000] [324] [DEBUG] GET /ajax-api/2.0/preview/mlflow/experiments/get\n",
            "[2022-06-19 18:30:59 +0000] [325] [DEBUG] POST /ajax-api/2.0/preview/mlflow/runs/search\n",
            "[2022-06-19 18:30:59 +0000] [323] [DEBUG] GET /ajax-api/2.0/preview/mlflow/model-versions/search\n",
            "[2022-06-19 18:31:00 +0000] [322] [DEBUG] GET /ajax-api/2.0/preview/mlflow/experiments/get\n",
            "[2022-06-19 18:31:00 +0000] [323] [DEBUG] GET /ajax-api/2.0/preview/mlflow/runs/get\n",
            "[2022-06-19 18:31:00 +0000] [325] [DEBUG] GET /ajax-api/2.0/preview/mlflow/model-versions/search\n",
            "[2022-06-19 18:31:00 +0000] [324] [DEBUG] GET /ajax-api/2.0/preview/mlflow/artifacts/list\n",
            "[2022-06-19 18:31:00 +0000] [323] [DEBUG] GET /ajax-api/2.0/preview/mlflow/artifacts/list\n",
            "[2022-06-19 18:31:01 +0000] [322] [DEBUG] GET /ajax-api/2.0/preview/mlflow/registered-models/list\n",
            "[2022-06-19 18:31:01 +0000] [324] [DEBUG] GET /ajax-api/2.0/preview/mlflow/registered-models/list\n",
            "[2022-06-19 18:31:09 +0000] [324] [DEBUG] POST /ajax-api/2.0/preview/mlflow/registered-models/create\n",
            "[2022-06-19 18:31:09 +0000] [324] [DEBUG] POST /ajax-api/2.0/preview/mlflow/model-versions/create\n",
            "[2022-06-19 18:31:09 +0000] [324] [DEBUG] GET /ajax-api/2.0/preview/mlflow/model-versions/search\n",
            "[2022-06-19 18:31:10 +0000] [322] [DEBUG] GET /ajax-api/2.0/preview/mlflow/model-versions/search\n",
            "[2022-06-19 18:31:12 +0000] [323] [DEBUG] GET /ajax-api/2.0/preview/mlflow/experiments/list\n",
            "[2022-06-19 18:31:12 +0000] [325] [DEBUG] POST /ajax-api/2.0/preview/mlflow/runs/search\n",
            "[2022-06-19 18:31:12 +0000] [322] [DEBUG] GET /ajax-api/2.0/preview/mlflow/experiments/get\n",
            "[2022-06-19 18:31:12 +0000] [325] [DEBUG] GET /static-files/static/media/registered-model.24429a4f6158e57b01b3928e2605aa25.svg\n",
            "[2022-06-19 18:31:13 +0000] [325] [DEBUG] GET /ajax-api/2.0/preview/mlflow/model-versions/search\n",
            "[2022-06-19 18:31:14 +0000] [324] [DEBUG] GET /ajax-api/2.0/preview/mlflow/runs/get\n",
            "[2022-06-19 18:31:14 +0000] [323] [DEBUG] GET /ajax-api/2.0/preview/mlflow/experiments/get\n",
            "[2022-06-19 18:31:14 +0000] [322] [DEBUG] GET /ajax-api/2.0/preview/mlflow/model-versions/search\n",
            "[2022-06-19 18:31:14 +0000] [325] [DEBUG] GET /ajax-api/2.0/preview/mlflow/artifacts/list\n",
            "[2022-06-19 18:31:14 +0000] [325] [DEBUG] GET /ajax-api/2.0/preview/mlflow/artifacts/list\n",
            "[2022-06-19 18:31:14 +0000] [323] [DEBUG] GET /ajax-api/2.0/preview/mlflow/registered-models/list\n",
            "[2022-06-19 18:31:15 +0000] [322] [DEBUG] GET /ajax-api/2.0/preview/mlflow/registered-models/list\n",
            "[2022-06-19 18:31:18 +0000] [322] [DEBUG] GET /ajax-api/2.0/preview/mlflow/registered-models/list\n",
            "[2022-06-19 18:31:21 +0000] [323] [DEBUG] POST /ajax-api/2.0/preview/mlflow/model-versions/create\n",
            "[2022-06-19 18:31:21 +0000] [325] [DEBUG] GET /ajax-api/2.0/preview/mlflow/model-versions/search\n",
            "[2022-06-19 18:31:24 +0000] [325] [DEBUG] GET /ajax-api/2.0/preview/mlflow/model-versions/search\n",
            "[2022-06-19 18:31:31 +0000] [325] [DEBUG] GET /ajax-api/2.0/preview/mlflow/registered-models/search\n",
            "[2022-06-19 18:31:35 +0000] [324] [DEBUG] GET /ajax-api/2.0/preview/mlflow/registered-models/get\n",
            "[2022-06-19 18:31:35 +0000] [323] [DEBUG] GET /ajax-api/2.0/preview/mlflow/model-versions/search\n",
            "[2022-06-19 18:31:37 +0000] [322] [DEBUG] GET /model-versions/get-artifact\n",
            "[2022-06-19 18:31:37 +0000] [323] [DEBUG] GET /ajax-api/2.0/preview/mlflow/model-versions/get\n",
            "[2022-06-19 18:31:37 +0000] [324] [DEBUG] GET /ajax-api/2.0/preview/mlflow/runs/get\n",
            "[2022-06-19 18:31:41 +0000] [325] [DEBUG] GET /ajax-api/2.0/preview/mlflow/model-versions/search\n",
            "[2022-06-19 18:31:41 +0000] [322] [DEBUG] GET /ajax-api/2.0/preview/mlflow/registered-models/get\n",
            "[2022-06-19 18:31:44 +0000] [324] [DEBUG] GET /ajax-api/2.0/preview/mlflow/registered-models/get\n",
            "[2022-06-19 18:31:44 +0000] [323] [DEBUG] GET /ajax-api/2.0/preview/mlflow/runs/get\n",
            "[2022-06-19 18:31:44 +0000] [325] [DEBUG] GET /ajax-api/2.0/preview/mlflow/model-versions/get\n",
            "[2022-06-19 18:31:44 +0000] [322] [DEBUG] GET /ajax-api/2.0/preview/mlflow/runs/get\n",
            "[2022-06-19 18:31:44 +0000] [323] [DEBUG] GET /ajax-api/2.0/preview/mlflow/model-versions/get\n",
            "[2022-06-19 18:31:44 +0000] [324] [DEBUG] GET /model-versions/get-artifact\n",
            "[2022-06-19 18:31:44 +0000] [325] [DEBUG] GET /static-files/static/js/504.f57ec682.chunk.js\n",
            "[2022-06-19 18:32:14 +0000] [323] [DEBUG] GET /ajax-api/2.0/preview/mlflow/registered-models/get\n",
            "[2022-06-19 18:32:14 +0000] [324] [DEBUG] GET /ajax-api/2.0/preview/mlflow/model-versions/search\n",
            "[2022-06-19 18:32:15 +0000] [323] [DEBUG] GET /ajax-api/2.0/preview/mlflow/registered-models/search\n",
            "[2022-06-19 18:32:20 +0000] [322] [DEBUG] GET /ajax-api/2.0/preview/mlflow/model-versions/get\n",
            "[2022-06-19 18:32:21 +0000] [322] [DEBUG] GET /ajax-api/2.0/preview/mlflow/runs/get\n",
            "[2022-06-19 18:32:27 +0000] [323] [DEBUG] POST /ajax-api/2.0/preview/mlflow/model-versions/transition-stage\n",
            "[2022-06-19 18:32:27 +0000] [325] [DEBUG] GET /ajax-api/2.0/preview/mlflow/model-versions/get\n",
            "[2022-06-19 18:32:27 +0000] [324] [DEBUG] GET /ajax-api/2.0/preview/mlflow/runs/get\n",
            "[2022-06-19 18:32:28 +0000] [322] [DEBUG] GET /ajax-api/2.0/preview/mlflow/model-versions/search\n",
            "[2022-06-19 18:32:28 +0000] [323] [DEBUG] GET /ajax-api/2.0/preview/mlflow/registered-models/get\n",
            "[2022-06-19 18:32:30 +0000] [325] [DEBUG] GET /ajax-api/2.0/preview/mlflow/registered-models/search\n",
            "[2022-06-19 18:32:33 +0000] [324] [DEBUG] GET /ajax-api/2.0/preview/mlflow/model-versions/get\n",
            "[2022-06-19 18:32:33 +0000] [324] [DEBUG] GET /ajax-api/2.0/preview/mlflow/runs/get\n",
            "[2022-06-19 18:32:36 +0000] [323] [DEBUG] POST /ajax-api/2.0/preview/mlflow/model-versions/transition-stage\n",
            "[2022-06-19 18:32:36 +0000] [325] [DEBUG] GET /ajax-api/2.0/preview/mlflow/model-versions/get\n",
            "[2022-06-19 18:32:37 +0000] [322] [DEBUG] GET /ajax-api/2.0/preview/mlflow/runs/get\n",
            "[2022-06-19 18:32:42 +0000] [323] [DEBUG] GET /ajax-api/2.0/preview/mlflow/experiments/list\n",
            "[2022-06-19 18:32:42 +0000] [325] [DEBUG] POST /ajax-api/2.0/preview/mlflow/runs/search\n",
            "[2022-06-19 18:32:42 +0000] [324] [DEBUG] GET /ajax-api/2.0/preview/mlflow/experiments/get\n",
            "[2022-06-19 18:32:42 +0000] [322] [DEBUG] GET /ajax-api/2.0/preview/mlflow/model-versions/search\n",
            "[2022-06-19 18:32:46 +0000] [322] [DEBUG] GET /ajax-api/2.0/preview/mlflow/model-versions/get\n",
            "[2022-06-19 18:32:47 +0000] [324] [DEBUG] GET /ajax-api/2.0/preview/mlflow/runs/get\n",
            "[2022-06-19 18:32:52 +0000] [324] [DEBUG] GET /ajax-api/2.0/preview/mlflow/runs/get\n",
            "[2022-06-19 18:32:52 +0000] [322] [DEBUG] GET /ajax-api/2.0/preview/mlflow/experiments/get\n",
            "[2022-06-19 18:32:52 +0000] [323] [DEBUG] GET /ajax-api/2.0/preview/mlflow/model-versions/search\n",
            "[2022-06-19 18:32:52 +0000] [325] [DEBUG] GET /ajax-api/2.0/preview/mlflow/artifacts/list\n",
            "[2022-06-19 18:32:52 +0000] [325] [DEBUG] GET /ajax-api/2.0/preview/mlflow/artifacts/list\n",
            "[2022-06-19 18:32:55 +0000] [325] [DEBUG] GET /ajax-api/2.0/preview/mlflow/model-versions/get\n",
            "[2022-06-19 18:32:55 +0000] [322] [DEBUG] GET /ajax-api/2.0/preview/mlflow/runs/get\n",
            "[2022-06-19 18:32:57 +0000] [325] [DEBUG] GET /ajax-api/2.0/preview/mlflow/registered-models/get\n",
            "[2022-06-19 18:32:57 +0000] [323] [DEBUG] GET /ajax-api/2.0/preview/mlflow/model-versions/search\n",
            "[2022-06-19 18:33:06 +0000] [323] [DEBUG] GET /ajax-api/2.0/preview/mlflow/registered-models/search\n",
            "[2022-06-19 18:33:27 +0000] [322] [DEBUG] POST /ajax-api/2.0/preview/mlflow/runs/search\n",
            "[2022-06-19 18:33:27 +0000] [325] [DEBUG] POST /ajax-api/2.0/preview/mlflow/runs/search\n",
            "[2022-06-19 18:33:27 +0000] [324] [DEBUG] GET /ajax-api/2.0/preview/mlflow/model-versions/search\n",
            "[2022-06-19 18:33:31 +0000] [324] [DEBUG] GET /ajax-api/2.0/preview/mlflow/runs/get\n",
            "[2022-06-19 18:33:31 +0000] [323] [DEBUG] GET /ajax-api/2.0/preview/mlflow/experiments/get\n",
            "[2022-06-19 18:33:31 +0000] [325] [DEBUG] GET /ajax-api/2.0/preview/mlflow/model-versions/search\n",
            "[2022-06-19 18:33:31 +0000] [324] [DEBUG] GET /ajax-api/2.0/preview/mlflow/artifacts/list\n",
            "[2022-06-19 18:33:31 +0000] [324] [DEBUG] GET /ajax-api/2.0/preview/mlflow/artifacts/list\n",
            "[2022-06-19 18:33:41 +0000] [324] [DEBUG] GET /ajax-api/2.0/preview/mlflow/model-versions/search\n",
            "[2022-06-19 18:33:51 +0000] [322] [DEBUG] GET /ajax-api/2.0/preview/mlflow/model-versions/search\n",
            "[2022-06-19 18:34:01 +0000] [324] [DEBUG] GET /ajax-api/2.0/preview/mlflow/model-versions/search\n",
            "[2022-06-19 18:34:11 +0000] [324] [DEBUG] GET /ajax-api/2.0/preview/mlflow/model-versions/search\n",
            "[2022-06-19 18:34:21 +0000] [322] [DEBUG] GET /ajax-api/2.0/preview/mlflow/model-versions/search\n",
            "[2022-06-19 18:34:31 +0000] [322] [DEBUG] GET /ajax-api/2.0/preview/mlflow/model-versions/search\n",
            "[2022-06-19 18:34:41 +0000] [322] [DEBUG] GET /ajax-api/2.0/preview/mlflow/model-versions/search\n",
            "[2022-06-19 18:34:51 +0000] [323] [DEBUG] GET /ajax-api/2.0/preview/mlflow/model-versions/search\n",
            "[2022-06-19 18:35:01 +0000] [322] [DEBUG] GET /ajax-api/2.0/preview/mlflow/model-versions/search\n",
            "[2022-06-19 18:35:11 +0000] [324] [DEBUG] GET /ajax-api/2.0/preview/mlflow/model-versions/search\n",
            "[2022-06-19 18:35:21 +0000] [322] [DEBUG] GET /ajax-api/2.0/preview/mlflow/model-versions/search\n",
            "[2022-06-19 18:35:31 +0000] [323] [DEBUG] GET /ajax-api/2.0/preview/mlflow/model-versions/search\n",
            "[2022-06-19 18:35:41 +0000] [322] [DEBUG] GET /ajax-api/2.0/preview/mlflow/model-versions/search\n",
            "[2022-06-19 18:35:51 +0000] [323] [DEBUG] GET /ajax-api/2.0/preview/mlflow/model-versions/search\n",
            "[2022-06-19 18:36:01 +0000] [324] [DEBUG] GET /ajax-api/2.0/preview/mlflow/model-versions/search\n",
            "[2022-06-19 18:36:04 +0000] [325] [DEBUG] GET /api/2.0/preview/mlflow/model-versions/get-download-uri\n",
            "[2022-06-19 18:36:11 +0000] [325] [DEBUG] GET /ajax-api/2.0/preview/mlflow/model-versions/search\n",
            "[2022-06-19 18:36:21 +0000] [325] [DEBUG] GET /ajax-api/2.0/preview/mlflow/model-versions/search\n",
            "[2022-06-19 18:36:31 +0000] [322] [DEBUG] GET /ajax-api/2.0/preview/mlflow/model-versions/search\n",
            "[2022-06-19 18:36:41 +0000] [322] [DEBUG] GET /ajax-api/2.0/preview/mlflow/model-versions/search\n",
            "[2022-06-19 18:36:51 +0000] [324] [DEBUG] GET /ajax-api/2.0/preview/mlflow/model-versions/search\n",
            "[2022-06-19 18:37:01 +0000] [324] [DEBUG] GET /ajax-api/2.0/preview/mlflow/model-versions/search\n",
            "[2022-06-19 18:37:01 +0000] [322] [DEBUG] GET /api/2.0/preview/mlflow/model-versions/get-download-uri\n",
            "[2022-06-19 18:37:11 +0000] [324] [DEBUG] GET /ajax-api/2.0/preview/mlflow/model-versions/search\n",
            "[2022-06-19 18:37:21 +0000] [322] [DEBUG] GET /ajax-api/2.0/preview/mlflow/model-versions/search\n",
            "[2022-06-19 18:37:31 +0000] [322] [DEBUG] GET /ajax-api/2.0/preview/mlflow/model-versions/search\n",
            "[2022-06-19 18:37:41 +0000] [322] [DEBUG] GET /ajax-api/2.0/preview/mlflow/model-versions/search\n",
            "[2022-06-19 18:37:51 +0000] [324] [DEBUG] GET /ajax-api/2.0/preview/mlflow/model-versions/search\n",
            "[2022-06-19 18:38:01 +0000] [322] [DEBUG] GET /ajax-api/2.0/preview/mlflow/model-versions/search\n",
            "[2022-06-19 18:38:11 +0000] [325] [DEBUG] GET /ajax-api/2.0/preview/mlflow/model-versions/search\n",
            "[2022-06-19 18:38:21 +0000] [322] [DEBUG] GET /ajax-api/2.0/preview/mlflow/model-versions/search\n",
            "[2022-06-19 18:38:31 +0000] [322] [DEBUG] GET /ajax-api/2.0/preview/mlflow/model-versions/search\n",
            "[2022-06-19 18:38:41 +0000] [322] [DEBUG] GET /ajax-api/2.0/preview/mlflow/model-versions/search\n",
            "[2022-06-19 18:38:51 +0000] [324] [DEBUG] GET /ajax-api/2.0/preview/mlflow/model-versions/search\n",
            "[2022-06-19 18:39:01 +0000] [325] [DEBUG] GET /ajax-api/2.0/preview/mlflow/model-versions/search\n",
            "[2022-06-19 18:39:11 +0000] [323] [DEBUG] GET /ajax-api/2.0/preview/mlflow/model-versions/search\n",
            "[2022-06-19 18:39:21 +0000] [322] [DEBUG] GET /ajax-api/2.0/preview/mlflow/model-versions/search\n",
            "[2022-06-19 18:39:31 +0000] [323] [DEBUG] GET /ajax-api/2.0/preview/mlflow/model-versions/search\n",
            "[2022-06-19 18:39:41 +0000] [325] [DEBUG] GET /ajax-api/2.0/preview/mlflow/model-versions/search\n",
            "[2022-06-19 18:39:51 +0000] [324] [DEBUG] GET /api/2.0/mlflow/runs/get\n",
            "[2022-06-19 18:39:51 +0000] [322] [DEBUG] GET /ajax-api/2.0/preview/mlflow/model-versions/search\n",
            "[2022-06-19 18:40:01 +0000] [325] [DEBUG] GET /ajax-api/2.0/preview/mlflow/model-versions/search\n",
            "[2022-06-19 18:40:11 +0000] [325] [DEBUG] GET /ajax-api/2.0/preview/mlflow/model-versions/search\n",
            "[2022-06-19 18:40:21 +0000] [325] [DEBUG] GET /ajax-api/2.0/preview/mlflow/model-versions/search\n",
            "[2022-06-19 18:40:31 +0000] [322] [DEBUG] GET /ajax-api/2.0/preview/mlflow/model-versions/search\n",
            "[2022-06-19 18:40:41 +0000] [324] [DEBUG] GET /ajax-api/2.0/preview/mlflow/model-versions/search\n",
            "[2022-06-19 18:40:51 +0000] [325] [DEBUG] GET /ajax-api/2.0/preview/mlflow/model-versions/search\n",
            "[2022-06-19 18:41:01 +0000] [325] [DEBUG] GET /ajax-api/2.0/preview/mlflow/model-versions/search\n",
            "[2022-06-19 18:41:11 +0000] [322] [DEBUG] GET /ajax-api/2.0/preview/mlflow/model-versions/search\n",
            "[2022-06-19 18:41:21 +0000] [322] [DEBUG] GET /ajax-api/2.0/preview/mlflow/model-versions/search\n",
            "[2022-06-19 18:41:26 +0000] [322] [DEBUG] GET /api/2.0/preview/mlflow/model-versions/get-download-uri\n",
            "[2022-06-19 18:41:31 +0000] [324] [DEBUG] GET /ajax-api/2.0/preview/mlflow/model-versions/search\n",
            "[2022-06-19 18:41:41 +0000] [322] [DEBUG] GET /ajax-api/2.0/preview/mlflow/model-versions/search\n",
            "[2022-06-19 18:41:51 +0000] [325] [DEBUG] GET /ajax-api/2.0/preview/mlflow/model-versions/search\n",
            "[2022-06-19 18:42:01 +0000] [322] [DEBUG] GET /ajax-api/2.0/preview/mlflow/model-versions/search\n",
            "[2022-06-19 18:42:11 +0000] [322] [DEBUG] GET /ajax-api/2.0/preview/mlflow/model-versions/search\n",
            "[2022-06-19 18:42:21 +0000] [325] [DEBUG] GET /ajax-api/2.0/preview/mlflow/model-versions/search\n",
            "[2022-06-19 18:42:31 +0000] [322] [DEBUG] GET /ajax-api/2.0/preview/mlflow/model-versions/search\n",
            "[2022-06-19 18:42:41 +0000] [324] [DEBUG] GET /ajax-api/2.0/preview/mlflow/model-versions/search\n",
            "[2022-06-19 18:42:51 +0000] [322] [DEBUG] GET /ajax-api/2.0/preview/mlflow/model-versions/search\n",
            "[2022-06-19 18:43:01 +0000] [324] [DEBUG] GET /ajax-api/2.0/preview/mlflow/model-versions/search\n",
            "[2022-06-19 18:43:11 +0000] [325] [DEBUG] GET /ajax-api/2.0/preview/mlflow/model-versions/search\n",
            "[2022-06-19 18:43:21 +0000] [325] [DEBUG] GET /ajax-api/2.0/preview/mlflow/model-versions/search\n",
            "[2022-06-19 18:43:31 +0000] [323] [DEBUG] GET /ajax-api/2.0/preview/mlflow/model-versions/search\n",
            "[2022-06-19 18:43:41 +0000] [324] [DEBUG] GET /ajax-api/2.0/preview/mlflow/model-versions/search\n",
            "[2022-06-19 18:43:51 +0000] [322] [DEBUG] GET /ajax-api/2.0/preview/mlflow/model-versions/search\n",
            "[2022-06-19 18:44:01 +0000] [324] [DEBUG] GET /ajax-api/2.0/preview/mlflow/model-versions/search\n",
            "[2022-06-19 18:44:09 +0000] [323] [DEBUG] GET /api/2.0/preview/mlflow/registered-models/list\n",
            "[2022-06-19 18:44:11 +0000] [325] [DEBUG] GET /ajax-api/2.0/preview/mlflow/model-versions/search\n",
            "[2022-06-19 18:44:21 +0000] [322] [DEBUG] GET /ajax-api/2.0/preview/mlflow/model-versions/search\n",
            "[2022-06-19 18:44:26 +0000] [322] [DEBUG] GET /api/2.0/preview/mlflow/registered-models/list\n",
            "[2022-06-19 18:44:31 +0000] [324] [DEBUG] GET /ajax-api/2.0/preview/mlflow/model-versions/search\n",
            "[2022-06-19 18:44:31 +0000] [325] [DEBUG] GET /api/2.0/preview/mlflow/registered-models/list\n",
            "[2022-06-19 18:44:41 +0000] [322] [DEBUG] GET /ajax-api/2.0/preview/mlflow/model-versions/search\n",
            "[2022-06-19 18:44:47 +0000] [322] [DEBUG] GET /api/2.0/preview/mlflow/registered-models/list\n",
            "[2022-06-19 18:44:51 +0000] [325] [DEBUG] GET /ajax-api/2.0/preview/mlflow/model-versions/search\n",
            "[2022-06-19 18:44:55 +0000] [323] [DEBUG] GET /api/2.0/preview/mlflow/registered-models/list\n",
            "[2022-06-19 18:44:58 +0000] [324] [DEBUG] GET /api/2.0/preview/mlflow/registered-models/list\n",
            "[2022-06-19 18:45:01 +0000] [325] [DEBUG] GET /ajax-api/2.0/preview/mlflow/model-versions/search\n",
            "[2022-06-19 18:45:04 +0000] [323] [DEBUG] GET /api/2.0/preview/mlflow/registered-models/list\n",
            "[2022-06-19 18:45:08 +0000] [322] [DEBUG] GET /api/2.0/preview/mlflow/registered-models/list\n",
            "[2022-06-19 18:45:11 +0000] [325] [DEBUG] GET /ajax-api/2.0/preview/mlflow/model-versions/search\n",
            "[2022-06-19 18:45:12 +0000] [324] [DEBUG] GET /api/2.0/preview/mlflow/registered-models/list\n",
            "[2022-06-19 18:45:21 +0000] [324] [DEBUG] GET /ajax-api/2.0/preview/mlflow/model-versions/search\n",
            "[2022-06-19 18:45:31 +0000] [323] [DEBUG] GET /ajax-api/2.0/preview/mlflow/model-versions/search\n",
            "[2022-06-19 18:45:39 +0000] [323] [DEBUG] GET /api/2.0/preview/mlflow/registered-models/list\n",
            "[2022-06-19 18:45:41 +0000] [323] [DEBUG] GET /ajax-api/2.0/preview/mlflow/model-versions/search\n",
            "[2022-06-19 18:45:45 +0000] [322] [DEBUG] GET /api/2.0/preview/mlflow/registered-models/list\n",
            "[2022-06-19 18:45:51 +0000] [325] [DEBUG] GET /api/2.0/preview/mlflow/registered-models/list\n",
            "[2022-06-19 18:45:51 +0000] [322] [DEBUG] GET /ajax-api/2.0/preview/mlflow/model-versions/search\n",
            "[2022-06-19 18:45:57 +0000] [323] [DEBUG] GET /api/2.0/preview/mlflow/registered-models/list\n",
            "[2022-06-19 18:46:01 +0000] [323] [DEBUG] GET /ajax-api/2.0/preview/mlflow/model-versions/search\n",
            "[2022-06-19 18:46:11 +0000] [322] [DEBUG] GET /ajax-api/2.0/preview/mlflow/model-versions/search\n",
            "[2022-06-19 18:46:21 +0000] [323] [DEBUG] GET /ajax-api/2.0/preview/mlflow/model-versions/search\n",
            "[2022-06-19 18:46:31 +0000] [323] [DEBUG] GET /ajax-api/2.0/preview/mlflow/model-versions/search\n",
            "[2022-06-19 18:46:35 +0000] [324] [DEBUG] GET /api/2.0/preview/mlflow/registered-models/list\n",
            "[2022-06-19 18:46:41 +0000] [324] [DEBUG] GET /ajax-api/2.0/preview/mlflow/model-versions/search\n",
            "[2022-06-19 18:46:45 +0000] [324] [DEBUG] GET /api/2.0/preview/mlflow/registered-models/list\n",
            "[2022-06-19 18:46:51 +0000] [323] [DEBUG] GET /ajax-api/2.0/preview/mlflow/model-versions/search\n",
            "[2022-06-19 18:47:01 +0000] [324] [DEBUG] GET /ajax-api/2.0/preview/mlflow/model-versions/search\n",
            "[2022-06-19 18:47:11 +0000] [324] [DEBUG] GET /ajax-api/2.0/preview/mlflow/model-versions/search\n",
            "[2022-06-19 18:47:21 +0000] [325] [DEBUG] GET /ajax-api/2.0/preview/mlflow/model-versions/search\n",
            "[2022-06-19 18:47:31 +0000] [324] [DEBUG] GET /ajax-api/2.0/preview/mlflow/model-versions/search\n",
            "[2022-06-19 18:47:41 +0000] [325] [DEBUG] GET /ajax-api/2.0/preview/mlflow/model-versions/search\n",
            "[2022-06-19 18:47:51 +0000] [323] [DEBUG] GET /ajax-api/2.0/preview/mlflow/model-versions/search\n",
            "[2022-06-19 18:48:01 +0000] [322] [DEBUG] GET /ajax-api/2.0/preview/mlflow/model-versions/search\n",
            "[2022-06-19 18:48:11 +0000] [323] [DEBUG] GET /ajax-api/2.0/preview/mlflow/model-versions/search\n",
            "[2022-06-19 18:48:21 +0000] [322] [DEBUG] GET /ajax-api/2.0/preview/mlflow/model-versions/search\n",
            "[2022-06-19 18:48:31 +0000] [324] [DEBUG] GET /ajax-api/2.0/preview/mlflow/model-versions/search\n",
            "[2022-06-19 18:48:41 +0000] [322] [DEBUG] GET /ajax-api/2.0/preview/mlflow/model-versions/search\n",
            "[2022-06-19 18:48:43 +0000] [325] [DEBUG] POST /api/2.0/mlflow/registered-models/get-latest-versions\n",
            "[2022-06-19 18:48:43 +0000] [323] [DEBUG] GET /api/2.0/preview/mlflow/model-versions/get-download-uri\n",
            "[2022-06-19 18:48:51 +0000] [323] [DEBUG] GET /ajax-api/2.0/preview/mlflow/model-versions/search\n",
            "[2022-06-19 18:49:01 +0000] [322] [DEBUG] GET /ajax-api/2.0/preview/mlflow/model-versions/search\n",
            "[2022-06-19 18:49:11 +0000] [324] [DEBUG] GET /ajax-api/2.0/preview/mlflow/model-versions/search\n",
            "[2022-06-19 18:49:20 +0000] [325] [DEBUG] GET /api/2.0/preview/mlflow/registered-models/get\n",
            "[2022-06-19 18:49:21 +0000] [323] [DEBUG] GET /ajax-api/2.0/preview/mlflow/model-versions/search\n",
            "[2022-06-19 18:49:31 +0000] [323] [DEBUG] GET /ajax-api/2.0/preview/mlflow/model-versions/search\n",
            "[2022-06-19 18:49:31 +0000] [325] [DEBUG] GET /api/2.0/preview/mlflow/registered-models/get\n",
            "[2022-06-19 18:49:41 +0000] [323] [DEBUG] GET /ajax-api/2.0/preview/mlflow/model-versions/search\n",
            "[2022-06-19 18:49:45 +0000] [325] [DEBUG] GET /api/2.0/preview/mlflow/registered-models/get\n",
            "[2022-06-19 18:49:51 +0000] [324] [DEBUG] GET /ajax-api/2.0/preview/mlflow/model-versions/search\n",
            "[2022-06-19 18:50:01 +0000] [324] [DEBUG] GET /ajax-api/2.0/preview/mlflow/model-versions/search\n",
            "[2022-06-19 18:50:11 +0000] [324] [DEBUG] GET /ajax-api/2.0/preview/mlflow/model-versions/search\n",
            "[2022-06-19 18:50:21 +0000] [323] [DEBUG] GET /ajax-api/2.0/preview/mlflow/model-versions/search\n",
            "[2022-06-19 18:50:31 +0000] [324] [DEBUG] GET /ajax-api/2.0/preview/mlflow/model-versions/search\n",
            "[2022-06-19 18:50:41 +0000] [324] [DEBUG] GET /ajax-api/2.0/preview/mlflow/model-versions/search\n",
            "[2022-06-19 18:50:51 +0000] [322] [DEBUG] GET /ajax-api/2.0/preview/mlflow/model-versions/search\n",
            "[2022-06-19 18:51:01 +0000] [323] [DEBUG] GET /ajax-api/2.0/preview/mlflow/model-versions/search\n",
            "[2022-06-19 18:51:11 +0000] [325] [DEBUG] GET /ajax-api/2.0/preview/mlflow/model-versions/search\n",
            "[2022-06-19 18:51:21 +0000] [323] [DEBUG] GET /ajax-api/2.0/preview/mlflow/model-versions/search\n",
            "[2022-06-19 18:51:31 +0000] [324] [DEBUG] GET /ajax-api/2.0/preview/mlflow/model-versions/search\n",
            "[2022-06-19 18:51:41 +0000] [322] [DEBUG] GET /ajax-api/2.0/preview/mlflow/model-versions/search\n",
            "[2022-06-19 18:51:51 +0000] [324] [DEBUG] GET /ajax-api/2.0/preview/mlflow/model-versions/search\n",
            "[2022-06-19 18:51:55 +0000] [325] [DEBUG] POST /api/2.0/mlflow/registered-models/get-latest-versions\n",
            "[2022-06-19 18:51:55 +0000] [323] [DEBUG] GET /api/2.0/preview/mlflow/model-versions/get-download-uri\n",
            "[2022-06-19 18:52:01 +0000] [323] [DEBUG] GET /ajax-api/2.0/preview/mlflow/model-versions/search\n",
            "[2022-06-19 18:52:11 +0000] [324] [DEBUG] GET /ajax-api/2.0/preview/mlflow/model-versions/search\n",
            "[2022-06-19 18:52:21 +0000] [323] [DEBUG] GET /ajax-api/2.0/preview/mlflow/model-versions/search\n",
            "[2022-06-19 18:52:31 +0000] [325] [DEBUG] GET /ajax-api/2.0/preview/mlflow/model-versions/search\n",
            "[2022-06-19 18:52:41 +0000] [323] [DEBUG] GET /ajax-api/2.0/preview/mlflow/model-versions/search\n",
            "[2022-06-19 18:52:51 +0000] [323] [DEBUG] GET /ajax-api/2.0/preview/mlflow/model-versions/search\n",
            "[2022-06-19 18:53:01 +0000] [325] [DEBUG] GET /ajax-api/2.0/preview/mlflow/model-versions/search\n",
            "[2022-06-19 18:53:11 +0000] [324] [DEBUG] GET /ajax-api/2.0/preview/mlflow/model-versions/search\n",
            "[2022-06-19 18:53:21 +0000] [323] [DEBUG] GET /ajax-api/2.0/preview/mlflow/model-versions/search\n",
            "[2022-06-19 18:53:31 +0000] [323] [DEBUG] GET /ajax-api/2.0/preview/mlflow/model-versions/search\n",
            "[2022-06-19 18:53:41 +0000] [325] [DEBUG] GET /ajax-api/2.0/preview/mlflow/model-versions/search\n",
            "[2022-06-19 18:53:51 +0000] [322] [DEBUG] GET /ajax-api/2.0/preview/mlflow/model-versions/search\n",
            "[2022-06-19 18:54:01 +0000] [322] [DEBUG] GET /ajax-api/2.0/preview/mlflow/model-versions/search\n",
            "[2022-06-19 18:54:11 +0000] [324] [DEBUG] GET /ajax-api/2.0/preview/mlflow/model-versions/search\n",
            "[2022-06-19 18:54:21 +0000] [322] [DEBUG] GET /ajax-api/2.0/preview/mlflow/model-versions/search\n",
            "[2022-06-19 18:54:31 +0000] [324] [DEBUG] GET /ajax-api/2.0/preview/mlflow/model-versions/search\n",
            "[2022-06-19 18:54:41 +0000] [323] [DEBUG] GET /ajax-api/2.0/preview/mlflow/model-versions/search\n",
            "[2022-06-19 18:54:51 +0000] [322] [DEBUG] GET /ajax-api/2.0/preview/mlflow/model-versions/search\n",
            "[2022-06-19 18:54:53 +0000] [325] [DEBUG] GET /api/2.0/mlflow/runs/get\n",
            "[2022-06-19 18:55:01 +0000] [323] [DEBUG] GET /ajax-api/2.0/preview/mlflow/model-versions/search\n",
            "[2022-06-19 18:55:11 +0000] [322] [DEBUG] GET /ajax-api/2.0/preview/mlflow/model-versions/search\n",
            "[2022-06-19 18:55:21 +0000] [323] [DEBUG] GET /ajax-api/2.0/preview/mlflow/model-versions/search\n",
            "[2022-06-19 18:55:31 +0000] [322] [DEBUG] GET /ajax-api/2.0/preview/mlflow/model-versions/search\n",
            "[2022-06-19 18:55:41 +0000] [324] [DEBUG] GET /ajax-api/2.0/preview/mlflow/model-versions/search\n",
            "[2022-06-19 18:55:51 +0000] [325] [DEBUG] GET /ajax-api/2.0/preview/mlflow/model-versions/search\n",
            "[2022-06-19 18:56:00 +0000] [324] [DEBUG] GET /api/2.0/preview/mlflow/registered-models/get\n",
            "[2022-06-19 18:56:01 +0000] [325] [DEBUG] GET /ajax-api/2.0/preview/mlflow/model-versions/search\n",
            "[2022-06-19 18:56:11 +0000] [322] [DEBUG] GET /ajax-api/2.0/preview/mlflow/model-versions/search\n",
            "[2022-06-19 18:56:21 +0000] [324] [DEBUG] GET /ajax-api/2.0/preview/mlflow/model-versions/search\n",
            "[2022-06-19 18:56:31 +0000] [325] [DEBUG] GET /ajax-api/2.0/preview/mlflow/model-versions/search\n",
            "[2022-06-19 18:56:41 +0000] [325] [DEBUG] GET /ajax-api/2.0/preview/mlflow/model-versions/search\n",
            "[2022-06-19 18:56:51 +0000] [323] [DEBUG] GET /ajax-api/2.0/preview/mlflow/model-versions/search\n",
            "[2022-06-19 18:57:01 +0000] [324] [DEBUG] GET /ajax-api/2.0/preview/mlflow/model-versions/search\n",
            "[2022-06-19 18:57:11 +0000] [323] [DEBUG] GET /ajax-api/2.0/preview/mlflow/model-versions/search\n",
            "[2022-06-19 18:57:21 +0000] [322] [DEBUG] GET /ajax-api/2.0/preview/mlflow/model-versions/search\n",
            "[2022-06-19 18:57:31 +0000] [322] [DEBUG] GET /ajax-api/2.0/preview/mlflow/model-versions/search\n",
            "[2022-06-19 18:57:41 +0000] [324] [DEBUG] GET /ajax-api/2.0/preview/mlflow/model-versions/search\n",
            "[2022-06-19 18:57:51 +0000] [322] [DEBUG] GET /ajax-api/2.0/preview/mlflow/model-versions/search\n",
            "[2022-06-19 18:58:01 +0000] [324] [DEBUG] GET /ajax-api/2.0/preview/mlflow/model-versions/search\n",
            "[2022-06-19 18:58:11 +0000] [324] [DEBUG] GET /ajax-api/2.0/preview/mlflow/model-versions/search\n",
            "[2022-06-19 18:58:21 +0000] [323] [DEBUG] GET /ajax-api/2.0/preview/mlflow/model-versions/search\n",
            "[2022-06-19 18:58:31 +0000] [322] [DEBUG] GET /ajax-api/2.0/preview/mlflow/model-versions/search\n",
            "[2022-06-19 18:58:41 +0000] [325] [DEBUG] GET /ajax-api/2.0/preview/mlflow/model-versions/search\n",
            "[2022-06-19 18:58:51 +0000] [323] [DEBUG] GET /ajax-api/2.0/preview/mlflow/model-versions/search\n",
            "[2022-06-19 18:59:01 +0000] [324] [DEBUG] GET /ajax-api/2.0/preview/mlflow/model-versions/search\n",
            "[2022-06-19 18:59:11 +0000] [323] [DEBUG] GET /ajax-api/2.0/preview/mlflow/model-versions/search\n",
            "[2022-06-19 18:59:20 +0000] [324] [DEBUG] POST /api/2.0/mlflow/registered-models/get-latest-versions\n",
            "[2022-06-19 18:59:21 +0000] [323] [DEBUG] GET /api/2.0/preview/mlflow/model-versions/get-download-uri\n",
            "[2022-06-19 18:59:21 +0000] [325] [DEBUG] GET /ajax-api/2.0/preview/mlflow/model-versions/search\n",
            "[2022-06-19 18:59:31 +0000] [322] [DEBUG] GET /ajax-api/2.0/preview/mlflow/model-versions/search\n",
            "[2022-06-19 18:59:41 +0000] [324] [DEBUG] GET /ajax-api/2.0/preview/mlflow/model-versions/search\n",
            "[2022-06-19 18:59:51 +0000] [323] [DEBUG] GET /ajax-api/2.0/preview/mlflow/model-versions/search\n",
            "[2022-06-19 19:00:01 +0000] [324] [DEBUG] GET /ajax-api/2.0/preview/mlflow/model-versions/search\n",
            "[2022-06-19 19:00:11 +0000] [324] [DEBUG] GET /ajax-api/2.0/preview/mlflow/model-versions/search\n",
            "[2022-06-19 19:00:21 +0000] [323] [DEBUG] GET /ajax-api/2.0/preview/mlflow/model-versions/search\n",
            "[2022-06-19 19:00:31 +0000] [324] [DEBUG] GET /ajax-api/2.0/preview/mlflow/model-versions/search\n",
            "[2022-06-19 19:00:42 +0000] [323] [DEBUG] GET /ajax-api/2.0/preview/mlflow/model-versions/search\n",
            "[2022-06-19 19:00:47 +0000] [323] [DEBUG] POST /api/2.0/mlflow/registered-models/get-latest-versions\n",
            "[2022-06-19 19:00:48 +0000] [324] [DEBUG] GET /api/2.0/preview/mlflow/model-versions/get-download-uri\n",
            "[2022-06-19 19:00:52 +0000] [323] [DEBUG] GET /ajax-api/2.0/preview/mlflow/model-versions/search\n",
            "[2022-06-19 19:01:02 +0000] [322] [DEBUG] GET /ajax-api/2.0/preview/mlflow/model-versions/search\n",
            "[2022-06-19 19:01:12 +0000] [322] [DEBUG] GET /ajax-api/2.0/preview/mlflow/model-versions/search\n",
            "[2022-06-19 19:01:22 +0000] [325] [DEBUG] GET /ajax-api/2.0/preview/mlflow/model-versions/search\n",
            "[2022-06-19 19:01:24 +0000] [323] [DEBUG] GET /api/2.0/preview/mlflow/registered-models/search\n",
            "[2022-06-19 19:01:32 +0000] [323] [DEBUG] GET /ajax-api/2.0/preview/mlflow/model-versions/search\n",
            "[2022-06-19 19:01:42 +0000] [322] [DEBUG] GET /ajax-api/2.0/preview/mlflow/model-versions/search\n",
            "[2022-06-19 19:01:44 +0000] [325] [DEBUG] GET /api/2.0/preview/mlflow/registered-models/search\n",
            "[2022-06-19 19:01:52 +0000] [325] [DEBUG] GET /ajax-api/2.0/preview/mlflow/model-versions/search\n",
            "[2022-06-19 19:02:02 +0000] [322] [DEBUG] GET /ajax-api/2.0/preview/mlflow/model-versions/search\n",
            "[2022-06-19 19:02:12 +0000] [322] [DEBUG] GET /ajax-api/2.0/preview/mlflow/model-versions/search\n",
            "[2022-06-19 19:02:22 +0000] [323] [DEBUG] GET /ajax-api/2.0/preview/mlflow/model-versions/search\n",
            "[2022-06-19 19:02:32 +0000] [325] [DEBUG] GET /ajax-api/2.0/preview/mlflow/model-versions/search\n",
            "[2022-06-19 19:02:42 +0000] [323] [DEBUG] GET /ajax-api/2.0/preview/mlflow/model-versions/search\n",
            "[2022-06-19 19:02:52 +0000] [325] [DEBUG] GET /ajax-api/2.0/preview/mlflow/model-versions/search\n",
            "[2022-06-19 19:03:02 +0000] [323] [DEBUG] GET /ajax-api/2.0/preview/mlflow/model-versions/search\n",
            "[2022-06-19 19:03:12 +0000] [325] [DEBUG] GET /ajax-api/2.0/preview/mlflow/model-versions/search\n",
            "[2022-06-19 19:03:22 +0000] [323] [DEBUG] GET /ajax-api/2.0/preview/mlflow/model-versions/search\n",
            "[2022-06-19 19:03:32 +0000] [325] [DEBUG] GET /ajax-api/2.0/preview/mlflow/model-versions/search\n",
            "[2022-06-19 19:03:42 +0000] [323] [DEBUG] GET /ajax-api/2.0/preview/mlflow/model-versions/search\n",
            "[2022-06-19 19:03:52 +0000] [324] [DEBUG] GET /ajax-api/2.0/preview/mlflow/model-versions/search\n",
            "[2022-06-19 19:04:02 +0000] [324] [DEBUG] GET /ajax-api/2.0/preview/mlflow/model-versions/search\n",
            "[2022-06-19 19:04:12 +0000] [322] [DEBUG] GET /ajax-api/2.0/preview/mlflow/model-versions/search\n",
            "[2022-06-19 19:04:22 +0000] [323] [DEBUG] GET /ajax-api/2.0/preview/mlflow/model-versions/search\n",
            "[2022-06-19 19:04:32 +0000] [325] [DEBUG] GET /ajax-api/2.0/preview/mlflow/model-versions/search\n",
            "[2022-06-19 19:04:42 +0000] [323] [DEBUG] GET /ajax-api/2.0/preview/mlflow/model-versions/search\n",
            "[2022-06-19 19:04:52 +0000] [325] [DEBUG] GET /ajax-api/2.0/preview/mlflow/model-versions/search\n",
            "[2022-06-19 19:05:02 +0000] [322] [DEBUG] GET /ajax-api/2.0/preview/mlflow/model-versions/search\n",
            "[2022-06-19 19:05:12 +0000] [324] [DEBUG] GET /ajax-api/2.0/preview/mlflow/model-versions/search\n",
            "[2022-06-19 19:05:22 +0000] [323] [DEBUG] GET /ajax-api/2.0/preview/mlflow/model-versions/search\n",
            "[2022-06-19 19:05:32 +0000] [322] [DEBUG] GET /ajax-api/2.0/preview/mlflow/model-versions/search\n",
            "[2022-06-19 19:05:44 +0000] [325] [DEBUG] GET /ajax-api/2.0/preview/mlflow/model-versions/search\n",
            "[2022-06-19 19:06:44 +0000] [325] [DEBUG] GET /ajax-api/2.0/preview/mlflow/model-versions/search\n",
            "[2022-06-19 19:07:44 +0000] [323] [DEBUG] GET /ajax-api/2.0/preview/mlflow/model-versions/search\n",
            "[2022-06-19 19:08:44 +0000] [325] [DEBUG] GET /ajax-api/2.0/preview/mlflow/model-versions/search\n",
            "[2022-06-19 19:09:44 +0000] [322] [DEBUG] GET /ajax-api/2.0/preview/mlflow/model-versions/search\n",
            "[2022-06-19 19:10:44 +0000] [325] [DEBUG] GET /ajax-api/2.0/preview/mlflow/model-versions/search\n",
            "[2022-06-19 19:11:44 +0000] [324] [DEBUG] GET /ajax-api/2.0/preview/mlflow/model-versions/search\n",
            "[2022-06-19 19:12:44 +0000] [324] [DEBUG] GET /ajax-api/2.0/preview/mlflow/model-versions/search\n",
            "[2022-06-19 19:12:57 +0000] [325] [DEBUG] GET /api/2.0/preview/mlflow/model-versions/get-download-uri\n",
            "[2022-06-19 19:13:27 +0000] [324] [DEBUG] GET /api/2.0/preview/mlflow/model-versions/get-download-uri\n",
            "[2022-06-19 19:13:44 +0000] [322] [DEBUG] GET /ajax-api/2.0/preview/mlflow/model-versions/search\n",
            "[2022-06-19 19:14:13 +0000] [325] [DEBUG] GET /ajax-api/2.0/preview/mlflow/model-versions/search\n",
            "[2022-06-19 19:14:17 +0000] [323] [DEBUG] GET /ajax-api/2.0/preview/mlflow/registered-models/search\n",
            "[2022-06-19 19:14:20 +0000] [323] [DEBUG] GET /ajax-api/2.0/preview/mlflow/model-versions/get\n",
            "[2022-06-19 19:14:20 +0000] [322] [DEBUG] GET /ajax-api/2.0/preview/mlflow/runs/get\n",
            "[2022-06-19 19:14:30 +0000] [324] [DEBUG] GET /ajax-api/2.0/preview/mlflow/model-versions/get\n",
            "[2022-06-19 19:14:30 +0000] [323] [DEBUG] GET /ajax-api/2.0/preview/mlflow/runs/get\n",
            "[2022-06-19 19:14:34 +0000] [322] [DEBUG] GET /ajax-api/2.0/preview/mlflow/registered-models/get\n",
            "[2022-06-19 19:14:34 +0000] [325] [DEBUG] GET /ajax-api/2.0/preview/mlflow/model-versions/search\n",
            "[2022-06-19 19:14:37 +0000] [323] [DEBUG] GET /ajax-api/2.0/preview/mlflow/registered-models/search\n",
            "[2022-06-19 19:15:32 +0000] [323] [DEBUG] GET /ajax-api/2.0/preview/mlflow/experiments/list\n",
            "[2022-06-19 19:15:32 +0000] [322] [DEBUG] GET /ajax-api/2.0/preview/mlflow/experiments/get\n",
            "[2022-06-19 19:15:32 +0000] [324] [DEBUG] POST /ajax-api/2.0/preview/mlflow/runs/search\n",
            "[2022-06-19 19:15:32 +0000] [325] [DEBUG] GET /ajax-api/2.0/preview/mlflow/model-versions/search\n",
            "[2022-06-19 19:15:34 +0000] [324] [DEBUG] GET /ajax-api/2.0/preview/mlflow/registered-models/search\n",
            "[2022-06-19 19:15:35 +0000] [325] [DEBUG] GET /ajax-api/2.0/preview/mlflow/model-versions/get\n",
            "[2022-06-19 19:15:35 +0000] [322] [DEBUG] GET /ajax-api/2.0/preview/mlflow/runs/get\n",
            "[2022-06-19 19:15:45 +0000] [324] [DEBUG] GET /ajax-api/2.0/preview/mlflow/model-versions/get\n",
            "[2022-06-19 19:15:45 +0000] [325] [DEBUG] GET /ajax-api/2.0/preview/mlflow/runs/get\n",
            "[2022-06-19 19:15:52 +0000] [323] [DEBUG] GET /ajax-api/2.0/preview/mlflow/registered-models/get\n",
            "[2022-06-19 19:15:52 +0000] [322] [DEBUG] GET /ajax-api/2.0/preview/mlflow/model-versions/search\n",
            "[2022-06-19 19:16:02 +0000] [324] [DEBUG] GET /ajax-api/2.0/preview/mlflow/registered-models/get\n",
            "[2022-06-19 19:16:02 +0000] [325] [DEBUG] GET /ajax-api/2.0/preview/mlflow/model-versions/search\n",
            "[2022-06-19 19:16:12 +0000] [325] [DEBUG] GET /ajax-api/2.0/preview/mlflow/registered-models/get\n",
            "[2022-06-19 19:16:12 +0000] [322] [DEBUG] GET /ajax-api/2.0/preview/mlflow/model-versions/search\n",
            "[2022-06-19 19:16:22 +0000] [324] [DEBUG] GET /ajax-api/2.0/preview/mlflow/registered-models/get\n",
            "[2022-06-19 19:16:22 +0000] [323] [DEBUG] GET /ajax-api/2.0/preview/mlflow/model-versions/search\n",
            "[2022-06-19 19:16:32 +0000] [323] [DEBUG] GET /ajax-api/2.0/preview/mlflow/registered-models/get\n",
            "[2022-06-19 19:16:32 +0000] [325] [DEBUG] GET /ajax-api/2.0/preview/mlflow/model-versions/search\n",
            "[2022-06-19 19:16:38 +0000] [324] [DEBUG] GET /ajax-api/2.0/preview/mlflow/model-versions/get\n",
            "[2022-06-19 19:16:38 +0000] [324] [DEBUG] GET /ajax-api/2.0/preview/mlflow/runs/get\n",
            "[2022-06-19 19:16:48 +0000] [322] [DEBUG] GET /ajax-api/2.0/preview/mlflow/model-versions/get\n",
            "[2022-06-19 19:16:48 +0000] [322] [DEBUG] GET /ajax-api/2.0/preview/mlflow/runs/get\n",
            "[2022-06-19 19:16:58 +0000] [323] [DEBUG] GET /ajax-api/2.0/preview/mlflow/model-versions/get\n",
            "[2022-06-19 19:16:58 +0000] [325] [DEBUG] GET /ajax-api/2.0/preview/mlflow/runs/get\n",
            "[2022-06-19 19:17:08 +0000] [324] [DEBUG] GET /ajax-api/2.0/preview/mlflow/model-versions/get\n",
            "[2022-06-19 19:17:08 +0000] [322] [DEBUG] GET /ajax-api/2.0/preview/mlflow/runs/get\n",
            "[2022-06-19 19:17:18 +0000] [323] [DEBUG] GET /ajax-api/2.0/preview/mlflow/model-versions/get\n",
            "[2022-06-19 19:17:18 +0000] [324] [DEBUG] GET /ajax-api/2.0/preview/mlflow/runs/get\n",
            "[2022-06-19 19:17:28 +0000] [322] [DEBUG] GET /ajax-api/2.0/preview/mlflow/model-versions/get\n",
            "[2022-06-19 19:17:28 +0000] [324] [DEBUG] GET /ajax-api/2.0/preview/mlflow/runs/get\n",
            "[2022-06-19 19:17:38 +0000] [325] [DEBUG] GET /ajax-api/2.0/preview/mlflow/model-versions/get\n",
            "[2022-06-19 19:17:38 +0000] [323] [DEBUG] GET /ajax-api/2.0/preview/mlflow/runs/get\n",
            "[2022-06-19 19:17:48 +0000] [324] [DEBUG] GET /ajax-api/2.0/preview/mlflow/model-versions/get\n",
            "[2022-06-19 19:17:48 +0000] [322] [DEBUG] GET /ajax-api/2.0/preview/mlflow/runs/get\n",
            "[2022-06-19 19:17:53 +0000] [324] [DEBUG] POST /api/2.0/mlflow/registered-models/get-latest-versions\n",
            "[2022-06-19 19:17:53 +0000] [324] [DEBUG] GET /api/2.0/preview/mlflow/model-versions/get-download-uri\n",
            "[2022-06-19 19:17:54 +0000] [323] [DEBUG] POST /api/2.0/mlflow/registered-models/get-latest-versions\n",
            "[2022-06-19 19:17:54 +0000] [325] [DEBUG] GET /api/2.0/preview/mlflow/model-versions/get-download-uri\n",
            "[2022-06-19 19:17:58 +0000] [325] [DEBUG] GET /ajax-api/2.0/preview/mlflow/model-versions/get\n",
            "[2022-06-19 19:17:58 +0000] [324] [DEBUG] GET /ajax-api/2.0/preview/mlflow/runs/get\n",
            "[2022-06-19 19:18:08 +0000] [324] [DEBUG] GET /ajax-api/2.0/preview/mlflow/model-versions/get\n",
            "[2022-06-19 19:18:08 +0000] [325] [DEBUG] GET /ajax-api/2.0/preview/mlflow/runs/get\n",
            "[2022-06-19 19:18:18 +0000] [322] [DEBUG] GET /ajax-api/2.0/preview/mlflow/model-versions/get\n",
            "[2022-06-19 19:18:18 +0000] [323] [DEBUG] GET /ajax-api/2.0/preview/mlflow/runs/get\n",
            "[2022-06-19 19:18:28 +0000] [323] [DEBUG] GET /ajax-api/2.0/preview/mlflow/model-versions/get\n",
            "[2022-06-19 19:18:28 +0000] [325] [DEBUG] GET /ajax-api/2.0/preview/mlflow/runs/get\n",
            "[2022-06-19 19:18:38 +0000] [324] [DEBUG] GET /ajax-api/2.0/preview/mlflow/model-versions/get\n",
            "[2022-06-19 19:18:38 +0000] [322] [DEBUG] GET /ajax-api/2.0/preview/mlflow/runs/get\n",
            "[2022-06-19 19:18:48 +0000] [323] [DEBUG] GET /ajax-api/2.0/preview/mlflow/model-versions/get\n",
            "[2022-06-19 19:18:48 +0000] [325] [DEBUG] GET /ajax-api/2.0/preview/mlflow/runs/get\n",
            "[2022-06-19 19:18:58 +0000] [324] [DEBUG] GET /ajax-api/2.0/preview/mlflow/model-versions/get\n",
            "[2022-06-19 19:18:58 +0000] [322] [DEBUG] GET /ajax-api/2.0/preview/mlflow/runs/get\n",
            "[2022-06-19 19:19:08 +0000] [323] [DEBUG] GET /ajax-api/2.0/preview/mlflow/model-versions/get\n",
            "[2022-06-19 19:19:08 +0000] [325] [DEBUG] GET /ajax-api/2.0/preview/mlflow/runs/get\n",
            "[2022-06-19 19:19:18 +0000] [324] [DEBUG] GET /ajax-api/2.0/preview/mlflow/model-versions/get\n",
            "[2022-06-19 19:19:18 +0000] [325] [DEBUG] GET /ajax-api/2.0/preview/mlflow/runs/get\n",
            "[2022-06-19 19:19:28 +0000] [323] [DEBUG] GET /ajax-api/2.0/preview/mlflow/model-versions/get\n",
            "[2022-06-19 19:19:28 +0000] [325] [DEBUG] GET /ajax-api/2.0/preview/mlflow/runs/get\n",
            "[2022-06-19 19:19:33 +0000] [322] [DEBUG] POST /api/2.0/mlflow/registered-models/get-latest-versions\n",
            "[2022-06-19 19:19:33 +0000] [324] [DEBUG] GET /api/2.0/preview/mlflow/model-versions/get-download-uri\n",
            "[2022-06-19 19:19:38 +0000] [322] [DEBUG] GET /ajax-api/2.0/preview/mlflow/model-versions/get\n",
            "[2022-06-19 19:19:38 +0000] [323] [DEBUG] GET /ajax-api/2.0/preview/mlflow/runs/get\n",
            "[2022-06-19 19:19:48 +0000] [325] [DEBUG] GET /ajax-api/2.0/preview/mlflow/model-versions/get\n",
            "[2022-06-19 19:19:48 +0000] [325] [DEBUG] GET /ajax-api/2.0/preview/mlflow/runs/get\n",
            "[2022-06-19 19:19:58 +0000] [325] [DEBUG] GET /ajax-api/2.0/preview/mlflow/model-versions/get\n",
            "[2022-06-19 19:19:58 +0000] [325] [DEBUG] GET /ajax-api/2.0/preview/mlflow/runs/get\n",
            "[2022-06-19 19:20:09 +0000] [325] [DEBUG] GET /ajax-api/2.0/preview/mlflow/model-versions/get\n",
            "[2022-06-19 19:20:09 +0000] [322] [DEBUG] GET /ajax-api/2.0/preview/mlflow/runs/get\n",
            "[2022-06-19 19:20:18 +0000] [323] [DEBUG] GET /ajax-api/2.0/preview/mlflow/model-versions/get\n",
            "[2022-06-19 19:20:18 +0000] [322] [DEBUG] GET /ajax-api/2.0/preview/mlflow/runs/get\n",
            "[2022-06-19 19:20:28 +0000] [325] [DEBUG] GET /ajax-api/2.0/preview/mlflow/model-versions/get\n",
            "[2022-06-19 19:20:28 +0000] [324] [DEBUG] GET /ajax-api/2.0/preview/mlflow/runs/get\n",
            "[2022-06-19 19:20:38 +0000] [323] [DEBUG] GET /ajax-api/2.0/preview/mlflow/model-versions/get\n",
            "[2022-06-19 19:20:38 +0000] [323] [DEBUG] GET /ajax-api/2.0/preview/mlflow/runs/get\n",
            "[2022-06-19 19:20:48 +0000] [324] [DEBUG] GET /ajax-api/2.0/preview/mlflow/model-versions/get\n",
            "[2022-06-19 19:20:48 +0000] [323] [DEBUG] GET /ajax-api/2.0/preview/mlflow/runs/get\n",
            "[2022-06-19 19:20:58 +0000] [322] [DEBUG] GET /ajax-api/2.0/preview/mlflow/model-versions/get\n",
            "[2022-06-19 19:20:58 +0000] [325] [DEBUG] GET /ajax-api/2.0/preview/mlflow/runs/get\n",
            "[2022-06-19 19:21:08 +0000] [324] [DEBUG] GET /ajax-api/2.0/preview/mlflow/model-versions/get\n",
            "[2022-06-19 19:21:08 +0000] [323] [DEBUG] GET /ajax-api/2.0/preview/mlflow/runs/get\n",
            "[2022-06-19 19:21:18 +0000] [325] [DEBUG] GET /ajax-api/2.0/preview/mlflow/model-versions/get\n",
            "[2022-06-19 19:21:18 +0000] [324] [DEBUG] GET /ajax-api/2.0/preview/mlflow/runs/get\n",
            "[2022-06-19 19:21:28 +0000] [324] [DEBUG] GET /ajax-api/2.0/preview/mlflow/model-versions/get\n",
            "[2022-06-19 19:21:28 +0000] [325] [DEBUG] GET /ajax-api/2.0/preview/mlflow/runs/get\n",
            "[2022-06-19 19:21:38 +0000] [323] [DEBUG] GET /ajax-api/2.0/preview/mlflow/model-versions/get\n",
            "[2022-06-19 19:21:38 +0000] [322] [DEBUG] GET /ajax-api/2.0/preview/mlflow/runs/get\n",
            "[2022-06-19 19:21:48 +0000] [322] [DEBUG] GET /ajax-api/2.0/preview/mlflow/model-versions/get\n",
            "[2022-06-19 19:21:48 +0000] [324] [DEBUG] GET /ajax-api/2.0/preview/mlflow/runs/get\n",
            "[2022-06-19 19:21:58 +0000] [324] [DEBUG] GET /ajax-api/2.0/preview/mlflow/model-versions/get\n",
            "[2022-06-19 19:21:58 +0000] [323] [DEBUG] GET /ajax-api/2.0/preview/mlflow/runs/get\n",
            "[2022-06-19 19:22:08 +0000] [325] [DEBUG] GET /ajax-api/2.0/preview/mlflow/model-versions/get\n",
            "[2022-06-19 19:22:08 +0000] [324] [DEBUG] GET /ajax-api/2.0/preview/mlflow/runs/get\n",
            "[2022-06-19 19:22:18 +0000] [323] [DEBUG] GET /ajax-api/2.0/preview/mlflow/model-versions/get\n",
            "[2022-06-19 19:22:18 +0000] [322] [DEBUG] GET /ajax-api/2.0/preview/mlflow/runs/get\n",
            "[2022-06-19 19:22:28 +0000] [325] [DEBUG] GET /ajax-api/2.0/preview/mlflow/model-versions/get\n",
            "[2022-06-19 19:22:28 +0000] [324] [DEBUG] GET /ajax-api/2.0/preview/mlflow/runs/get\n",
            "[2022-06-19 19:22:38 +0000] [322] [DEBUG] GET /ajax-api/2.0/preview/mlflow/model-versions/get\n",
            "[2022-06-19 19:22:38 +0000] [322] [DEBUG] GET /ajax-api/2.0/preview/mlflow/runs/get\n",
            "[2022-06-19 19:22:48 +0000] [322] [DEBUG] GET /ajax-api/2.0/preview/mlflow/model-versions/get\n",
            "[2022-06-19 19:22:48 +0000] [325] [DEBUG] GET /ajax-api/2.0/preview/mlflow/runs/get\n",
            "[2022-06-19 19:22:58 +0000] [322] [DEBUG] GET /ajax-api/2.0/preview/mlflow/model-versions/get\n",
            "[2022-06-19 19:22:58 +0000] [325] [DEBUG] GET /ajax-api/2.0/preview/mlflow/runs/get\n",
            "[2022-06-19 19:23:08 +0000] [324] [DEBUG] GET /ajax-api/2.0/preview/mlflow/model-versions/get\n",
            "[2022-06-19 19:23:08 +0000] [325] [DEBUG] GET /ajax-api/2.0/preview/mlflow/runs/get\n",
            "[2022-06-19 19:23:09 +0000] [322] [DEBUG] POST /api/2.0/mlflow/runs/create\n",
            "[2022-06-19 19:23:10 +0000] [324] [DEBUG] GET /api/2.0/mlflow/runs/get\n",
            "[2022-06-19 19:23:18 +0000] [324] [DEBUG] GET /ajax-api/2.0/preview/mlflow/model-versions/get\n",
            "[2022-06-19 19:23:18 +0000] [323] [DEBUG] GET /ajax-api/2.0/preview/mlflow/runs/get\n",
            "[2022-06-19 19:23:28 +0000] [323] [DEBUG] GET /ajax-api/2.0/preview/mlflow/model-versions/get\n",
            "[2022-06-19 19:23:28 +0000] [322] [DEBUG] GET /ajax-api/2.0/preview/mlflow/runs/get\n",
            "[2022-06-19 19:23:38 +0000] [325] [DEBUG] GET /ajax-api/2.0/preview/mlflow/model-versions/get\n",
            "[2022-06-19 19:23:38 +0000] [325] [DEBUG] GET /ajax-api/2.0/preview/mlflow/runs/get\n",
            "[2022-06-19 19:23:53 +0000] [323] [DEBUG] POST /api/2.0/mlflow/registered-models/get-latest-versions\n",
            "[2022-06-19 19:23:53 +0000] [325] [DEBUG] GET /api/2.0/preview/mlflow/model-versions/get-download-uri\n",
            "[2022-06-19 19:24:53 +0000] [323] [DEBUG] GET /api/2.0/mlflow/runs/get\n",
            "[2022-06-19 19:37:57 +0000] [319] [INFO] Handling signal: int\n",
            "\n",
            "Aborted!\n",
            "[2022-06-19 19:37:57 +0000] [324] [INFO] Worker exiting (pid: 324)\n",
            "[2022-06-19 19:37:57 +0000] [323] [INFO] Worker exiting (pid: 323)\n",
            "[2022-06-19 19:37:57 +0000] [322] [INFO] Worker exiting (pid: 322)\n",
            "[2022-06-19 19:37:57 +0000] [325] [INFO] Worker exiting (pid: 325)\n",
            "[2022-06-19 19:37:58 +0000] [319] [INFO] Shutting down: Master\n"
          ]
        }
      ]
    },
    {
      "cell_type": "markdown",
      "source": [
        "## MLflow server + proxied artifact storage access"
      ],
      "metadata": {
        "id": "AIJbN3ABeODk"
      }
    },
    {
      "cell_type": "markdown",
      "source": [
        "You can also run the tracking server without exposing the artifact store to end-users.\n",
        "\n",
        "**Pro:**\n",
        "*   Client-side does not need authentication to e.g. S3 bucket\n",
        "\n",
        "**Con:**\n",
        "*   Anyone with access to the tracking server can access all artifacts"
      ],
      "metadata": {
        "id": "998orFyDgK87"
      }
    },
    {
      "cell_type": "markdown",
      "source": [
        "Artifact URIs will start with `mlflow-artifacts:/` instead of e.g. `s3:/`."
      ],
      "metadata": {
        "id": "a5RS2rFciKgM"
      }
    },
    {
      "cell_type": "code",
      "source": [
        "start_tunnel()"
      ],
      "metadata": {
        "id": "JwOOSmdZLSDM"
      },
      "execution_count": null,
      "outputs": []
    },
    {
      "cell_type": "code",
      "source": [
        "!mlflow server --backend-store-uri sqlite:///mlflow.sqlite --default-artifact-root mlflow-artifacts --artifacts-destination s3://demobucket --serve-artifacts"
      ],
      "metadata": {
        "colab": {
          "base_uri": "https://localhost:8080/"
        },
        "id": "ZKK-ngmZeNkh",
        "outputId": "4216e91a-a6c3-4bb1-da83-261205037ff8"
      },
      "execution_count": null,
      "outputs": [
        {
          "output_type": "stream",
          "name": "stdout",
          "text": [
            "[2022-06-19 19:41:03 +0000] [778] [INFO] Starting gunicorn 20.1.0\n",
            "[2022-06-19 19:41:03 +0000] [778] [INFO] Listening at: http://127.0.0.1:5000 (778)\n",
            "[2022-06-19 19:41:03 +0000] [778] [INFO] Using worker: sync\n",
            "[2022-06-19 19:41:03 +0000] [781] [INFO] Booting worker with pid: 781\n",
            "[2022-06-19 19:41:03 +0000] [782] [INFO] Booting worker with pid: 782\n",
            "[2022-06-19 19:41:03 +0000] [783] [INFO] Booting worker with pid: 783\n",
            "[2022-06-19 19:41:03 +0000] [784] [INFO] Booting worker with pid: 784\n",
            "[2022-06-19 20:32:20 +0000] [778] [INFO] Handling signal: int\n",
            "[2022-06-19 20:32:20 +0000] [781] [INFO] Worker exiting (pid: 781)\n",
            "[2022-06-19 20:32:20 +0000] [783] [INFO] Worker exiting (pid: 783)\n",
            "[2022-06-19 20:32:20 +0000] [782] [INFO] Worker exiting (pid: 782)\n",
            "[2022-06-19 20:32:20 +0000] [784] [INFO] Worker exiting (pid: 784)\n",
            "\n",
            "Aborted!\n",
            "[2022-06-19 20:32:21 +0000] [778] [INFO] Shutting down: Master\n"
          ]
        }
      ]
    },
    {
      "cell_type": "markdown",
      "source": [
        "## Searching through your MLflow runs programmatically"
      ],
      "metadata": {
        "id": "yrY8AFA-hRnv"
      }
    },
    {
      "cell_type": "code",
      "source": [
        "import mlflow"
      ],
      "metadata": {
        "id": "FuNW7-tmhVGD"
      },
      "execution_count": null,
      "outputs": []
    },
    {
      "cell_type": "code",
      "source": [
        "mlflow.search_runs()"
      ],
      "metadata": {
        "id": "EX-t8te0hVBw"
      },
      "execution_count": null,
      "outputs": []
    },
    {
      "cell_type": "markdown",
      "source": [
        "This gives you all the runs listed in the already-defined tracking server as a Pandas dataframe."
      ],
      "metadata": {
        "id": "AZjhtlz_hzSR"
      }
    },
    {
      "cell_type": "code",
      "source": [
        "mlflow.search_runs().loc[0]"
      ],
      "metadata": {
        "id": "qvM2Rh9chU2K"
      },
      "execution_count": null,
      "outputs": []
    },
    {
      "cell_type": "code",
      "source": [
        "artifact_uri = mlflow.search_runs().loc[0]['artifact_uri']"
      ],
      "metadata": {
        "id": "3z470J7QhiJS"
      },
      "execution_count": null,
      "outputs": []
    },
    {
      "cell_type": "code",
      "source": [
        "mlflow.artifacts.download_artifacts(artifact_uri)"
      ],
      "metadata": {
        "id": "dL90XCGshjQA"
      },
      "execution_count": null,
      "outputs": []
    },
    {
      "cell_type": "markdown",
      "source": [
        "You can also filter by multiple conditions separated by an `AND` operator."
      ],
      "metadata": {
        "id": "EXF6P9FshnX5"
      }
    },
    {
      "cell_type": "code",
      "source": [
        "mlflow.search_runs(filter_string = \"metrics.r2 > 0.2\")\n",
        "\n",
        "#mlflow.search_runs(filter_string = \"metrics.r2 > 0.2 AND ...\")"
      ],
      "metadata": {
        "id": "XE2-RFCbhkyK"
      },
      "execution_count": null,
      "outputs": []
    }
  ]
}