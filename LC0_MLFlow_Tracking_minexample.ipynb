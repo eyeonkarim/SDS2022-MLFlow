{
  "nbformat": 4,
  "nbformat_minor": 0,
  "metadata": {
    "colab": {
      "name": "LC0_MLFlow_Tracking_minexample.ipynb",
      "provenance": [],
      "include_colab_link": true
    },
    "kernelspec": {
      "name": "python3",
      "display_name": "Python 3"
    },
    "language_info": {
      "name": "python"
    }
  },
  "cells": [
    {
      "cell_type": "markdown",
      "metadata": {
        "id": "view-in-github",
        "colab_type": "text"
      },
      "source": [
        "<a href=\"https://colab.research.google.com/github/eyeonkarim/SDS2022-MLFlow/blob/main/LC0_MLFlow_Tracking_minexample.ipynb\" target=\"_parent\"><img src=\"https://colab.research.google.com/assets/colab-badge.svg\" alt=\"Open In Colab\"/></a>"
      ]
    },
    {
      "cell_type": "markdown",
      "source": [
        "<center><a target=\"_blank\" href=\"https://www.sds2022.ch/\"><img src=\"https://drive.google.com/uc?id=1S7k7kTXs9qIylw3C7LA9rHkLycjlY8te\" width=\"500\" style=\"background:none; border:none; box-shadow:none;\" /></a> </center>\n",
        "\n",
        "<center><a target=\"_blank\" href=\"http://www.sit.academy\"><img src=\"https://drive.google.com/uc?id=1x9_jQgLhozCSWDSaOdVxKmxOEAe_OLgV\" width=\"250\" style=\"background:none; border:none; box-shadow:none;\" /></a> </center>\n",
        "\n",
        "_____\n",
        "\n",
        "<center> <h1> Live Coding  </h1> </center>\n",
        "\n",
        "<p style=\"margin-bottom:1cm;\"></p>\n",
        "\n",
        "_____\n",
        "\n",
        "<center>SIT Academy, 2022</center>\n",
        "\n"
      ],
      "metadata": {
        "id": "1TQJLfCzJ178"
      }
    },
    {
      "cell_type": "markdown",
      "source": [
        "# MLFlow Workshop - Sequence 1 - Tracking API\n",
        "\n",
        "MLflow Tracking is an API and UI for logging:\n",
        "- parameters, \n",
        "- code versions, \n",
        "- metrics, and \n",
        "- artifacts \n",
        "\n",
        "when running your machine learning code and for later visualizing the results. You can use MLflow Tracking in any environment (for example, a standalone script or a notebook) to log results to local files or to a server, then compare multiple runs. Teams can also use it to compare results from different users.\n",
        "*italicized text*"
      ],
      "metadata": {
        "id": "cld_Jvw6Jws7"
      }
    },
    {
      "cell_type": "code",
      "execution_count": null,
      "metadata": {
        "colab": {
          "base_uri": "https://localhost:8080/"
        },
        "id": "hRYcktelI99v",
        "outputId": "9a78d928-6175-40c7-d6ef-fd1fb8405753"
      },
      "outputs": [
        {
          "output_type": "stream",
          "name": "stdout",
          "text": [
            "\u001b[K     |████████████████████████████████| 17.8 MB 437 kB/s \n",
            "\u001b[K     |████████████████████████████████| 209 kB 11.5 MB/s \n",
            "\u001b[K     |████████████████████████████████| 146 kB 35.5 MB/s \n",
            "\u001b[K     |████████████████████████████████| 81 kB 1.7 MB/s \n",
            "\u001b[K     |████████████████████████████████| 181 kB 43.2 MB/s \n",
            "\u001b[K     |████████████████████████████████| 596 kB 33.5 MB/s \n",
            "\u001b[K     |████████████████████████████████| 79 kB 5.8 MB/s \n",
            "\u001b[K     |████████████████████████████████| 54 kB 1.7 MB/s \n",
            "\u001b[K     |████████████████████████████████| 63 kB 1.4 MB/s \n",
            "\u001b[K     |████████████████████████████████| 78 kB 5.1 MB/s \n",
            "\u001b[?25h  Building wheel for databricks-cli (setup.py) ... \u001b[?25l\u001b[?25hdone\n"
          ]
        }
      ],
      "source": [
        "!pip install mlflow --quiet"
      ]
    },
    {
      "cell_type": "markdown",
      "source": [
        "## Automatic Logging:\n",
        "\n",
        "`mlflow.sklearn.autolog()`: enables (or disables) and configures autologging for scikit-learn estimators.\n"
      ],
      "metadata": {
        "id": "idd-MOCZToXF"
      }
    },
    {
      "cell_type": "code",
      "source": [
        "import numpy as np\n",
        "from sklearn.linear_model import LinearRegression\n",
        "import mlflow\n",
        " \n",
        "X = np.array([[1, 1], [1, 2], [2, 2], [2, 3]])\n",
        "y = np.dot(X, np.array([1, 2])) + 3\n",
        " \n",
        "with mlflow.start_run():\n",
        "    mlflow.sklearn.autolog()\n",
        "    reg = LinearRegression().fit(X, y)"
      ],
      "metadata": {
        "id": "_rBAk7SBJHmg"
      },
      "execution_count": null,
      "outputs": []
    },
    {
      "cell_type": "code",
      "source": [
        "!pip install pyngrok --quiet"
      ],
      "metadata": {
        "colab": {
          "base_uri": "https://localhost:8080/"
        },
        "id": "NE3Rt5esJQ4j",
        "outputId": "ee331ca3-4986-468c-a551-182380dfeb15"
      },
      "execution_count": null,
      "outputs": [
        {
          "output_type": "stream",
          "name": "stdout",
          "text": [
            "\u001b[?25l\r\u001b[K     |▍                               | 10 kB 24.9 MB/s eta 0:00:01\r\u001b[K     |▉                               | 20 kB 28.4 MB/s eta 0:00:01\r\u001b[K     |█▎                              | 30 kB 33.4 MB/s eta 0:00:01\r\u001b[K     |█▊                              | 40 kB 25.3 MB/s eta 0:00:01\r\u001b[K     |██▏                             | 51 kB 9.3 MB/s eta 0:00:01\r\u001b[K     |██▋                             | 61 kB 10.8 MB/s eta 0:00:01\r\u001b[K     |███                             | 71 kB 10.0 MB/s eta 0:00:01\r\u001b[K     |███▌                            | 81 kB 10.9 MB/s eta 0:00:01\r\u001b[K     |████                            | 92 kB 11.9 MB/s eta 0:00:01\r\u001b[K     |████▍                           | 102 kB 10.4 MB/s eta 0:00:01\r\u001b[K     |████▉                           | 112 kB 10.4 MB/s eta 0:00:01\r\u001b[K     |█████▎                          | 122 kB 10.4 MB/s eta 0:00:01\r\u001b[K     |█████▊                          | 133 kB 10.4 MB/s eta 0:00:01\r\u001b[K     |██████▏                         | 143 kB 10.4 MB/s eta 0:00:01\r\u001b[K     |██████▋                         | 153 kB 10.4 MB/s eta 0:00:01\r\u001b[K     |███████                         | 163 kB 10.4 MB/s eta 0:00:01\r\u001b[K     |███████▌                        | 174 kB 10.4 MB/s eta 0:00:01\r\u001b[K     |████████                        | 184 kB 10.4 MB/s eta 0:00:01\r\u001b[K     |████████▍                       | 194 kB 10.4 MB/s eta 0:00:01\r\u001b[K     |████████▉                       | 204 kB 10.4 MB/s eta 0:00:01\r\u001b[K     |█████████▎                      | 215 kB 10.4 MB/s eta 0:00:01\r\u001b[K     |█████████▊                      | 225 kB 10.4 MB/s eta 0:00:01\r\u001b[K     |██████████▏                     | 235 kB 10.4 MB/s eta 0:00:01\r\u001b[K     |██████████▌                     | 245 kB 10.4 MB/s eta 0:00:01\r\u001b[K     |███████████                     | 256 kB 10.4 MB/s eta 0:00:01\r\u001b[K     |███████████▍                    | 266 kB 10.4 MB/s eta 0:00:01\r\u001b[K     |███████████▉                    | 276 kB 10.4 MB/s eta 0:00:01\r\u001b[K     |████████████▎                   | 286 kB 10.4 MB/s eta 0:00:01\r\u001b[K     |████████████▊                   | 296 kB 10.4 MB/s eta 0:00:01\r\u001b[K     |█████████████▏                  | 307 kB 10.4 MB/s eta 0:00:01\r\u001b[K     |█████████████▋                  | 317 kB 10.4 MB/s eta 0:00:01\r\u001b[K     |██████████████                  | 327 kB 10.4 MB/s eta 0:00:01\r\u001b[K     |██████████████▌                 | 337 kB 10.4 MB/s eta 0:00:01\r\u001b[K     |███████████████                 | 348 kB 10.4 MB/s eta 0:00:01\r\u001b[K     |███████████████▍                | 358 kB 10.4 MB/s eta 0:00:01\r\u001b[K     |███████████████▉                | 368 kB 10.4 MB/s eta 0:00:01\r\u001b[K     |████████████████▎               | 378 kB 10.4 MB/s eta 0:00:01\r\u001b[K     |████████████████▊               | 389 kB 10.4 MB/s eta 0:00:01\r\u001b[K     |█████████████████▏              | 399 kB 10.4 MB/s eta 0:00:01\r\u001b[K     |█████████████████▋              | 409 kB 10.4 MB/s eta 0:00:01\r\u001b[K     |██████████████████              | 419 kB 10.4 MB/s eta 0:00:01\r\u001b[K     |██████████████████▌             | 430 kB 10.4 MB/s eta 0:00:01\r\u001b[K     |███████████████████             | 440 kB 10.4 MB/s eta 0:00:01\r\u001b[K     |███████████████████▍            | 450 kB 10.4 MB/s eta 0:00:01\r\u001b[K     |███████████████████▉            | 460 kB 10.4 MB/s eta 0:00:01\r\u001b[K     |████████████████████▎           | 471 kB 10.4 MB/s eta 0:00:01\r\u001b[K     |████████████████████▋           | 481 kB 10.4 MB/s eta 0:00:01\r\u001b[K     |█████████████████████           | 491 kB 10.4 MB/s eta 0:00:01\r\u001b[K     |█████████████████████▌          | 501 kB 10.4 MB/s eta 0:00:01\r\u001b[K     |██████████████████████          | 512 kB 10.4 MB/s eta 0:00:01\r\u001b[K     |██████████████████████▍         | 522 kB 10.4 MB/s eta 0:00:01\r\u001b[K     |██████████████████████▉         | 532 kB 10.4 MB/s eta 0:00:01\r\u001b[K     |███████████████████████▎        | 542 kB 10.4 MB/s eta 0:00:01\r\u001b[K     |███████████████████████▊        | 552 kB 10.4 MB/s eta 0:00:01\r\u001b[K     |████████████████████████▏       | 563 kB 10.4 MB/s eta 0:00:01\r\u001b[K     |████████████████████████▋       | 573 kB 10.4 MB/s eta 0:00:01\r\u001b[K     |█████████████████████████       | 583 kB 10.4 MB/s eta 0:00:01\r\u001b[K     |█████████████████████████▌      | 593 kB 10.4 MB/s eta 0:00:01\r\u001b[K     |██████████████████████████      | 604 kB 10.4 MB/s eta 0:00:01\r\u001b[K     |██████████████████████████▍     | 614 kB 10.4 MB/s eta 0:00:01\r\u001b[K     |██████████████████████████▉     | 624 kB 10.4 MB/s eta 0:00:01\r\u001b[K     |███████████████████████████▎    | 634 kB 10.4 MB/s eta 0:00:01\r\u001b[K     |███████████████████████████▊    | 645 kB 10.4 MB/s eta 0:00:01\r\u001b[K     |████████████████████████████▏   | 655 kB 10.4 MB/s eta 0:00:01\r\u001b[K     |████████████████████████████▋   | 665 kB 10.4 MB/s eta 0:00:01\r\u001b[K     |█████████████████████████████   | 675 kB 10.4 MB/s eta 0:00:01\r\u001b[K     |█████████████████████████████▌  | 686 kB 10.4 MB/s eta 0:00:01\r\u001b[K     |██████████████████████████████  | 696 kB 10.4 MB/s eta 0:00:01\r\u001b[K     |██████████████████████████████▍ | 706 kB 10.4 MB/s eta 0:00:01\r\u001b[K     |██████████████████████████████▊ | 716 kB 10.4 MB/s eta 0:00:01\r\u001b[K     |███████████████████████████████▏| 727 kB 10.4 MB/s eta 0:00:01\r\u001b[K     |███████████████████████████████▋| 737 kB 10.4 MB/s eta 0:00:01\r\u001b[K     |████████████████████████████████| 745 kB 10.4 MB/s \n",
            "\u001b[?25h  Building wheel for pyngrok (setup.py) ... \u001b[?25l\u001b[?25hdone\n"
          ]
        }
      ]
    },
    {
      "cell_type": "code",
      "source": [
        "from pyngrok import ngrok\n",
        "from getpass import getpass\n",
        "\n",
        "# Terminate open tunnels if exist\n",
        "ngrok.kill()\n",
        "\n",
        "# Setting the authtoken (optional)\n",
        "# Get your authtoken from https://dashboard.ngrok.com/auth\n",
        "NGROK_AUTH_TOKEN = getpass('Enter the ngrok authtoken: ')\n",
        "ngrok.set_auth_token(NGROK_AUTH_TOKEN)\n",
        "\n",
        "# Open an HTTPs tunnel on port 5000 for http://localhost:5000\n",
        "ngrok_tunnel = ngrok.connect(addr=\"5000\", proto=\"http\", bind_tls=True)\n",
        "print(\"MLflow Tracking UI:\", ngrok_tunnel.public_url)"
      ],
      "metadata": {
        "colab": {
          "base_uri": "https://localhost:8080/"
        },
        "id": "bbOpHVAgJTus",
        "outputId": "86fc2512-1592-481a-c81b-68a7b2d7cd86"
      },
      "execution_count": null,
      "outputs": [
        {
          "output_type": "stream",
          "name": "stdout",
          "text": [
            "Enter the ngrok authtoken: ··········\n",
            "MLflow Tracking UI: https://7159-34-83-79-135.ngrok.io\n"
          ]
        }
      ]
    },
    {
      "cell_type": "code",
      "source": [
        "!mlflow ui --port 5000"
      ],
      "metadata": {
        "colab": {
          "base_uri": "https://localhost:8080/"
        },
        "id": "M7WIVs08JaF5",
        "outputId": "d3ebba9b-286d-45c4-cdba-c81540164910"
      },
      "execution_count": null,
      "outputs": [
        {
          "output_type": "stream",
          "name": "stdout",
          "text": [
            "[2022-06-21 21:23:28 +0000] [237] [INFO] Starting gunicorn 20.1.0\n",
            "[2022-06-21 21:23:28 +0000] [237] [INFO] Listening at: http://127.0.0.1:5000 (237)\n",
            "[2022-06-21 21:23:28 +0000] [237] [INFO] Using worker: sync\n",
            "[2022-06-21 21:23:28 +0000] [242] [INFO] Booting worker with pid: 242\n",
            "\n",
            "[2022-06-21 22:34:45 +0000] [237] [INFO] Handling signal: int\n",
            "Aborted!\n",
            "[2022-06-21 22:34:45 +0000] [242] [INFO] Worker exiting (pid: 242)\n",
            "[2022-06-21 22:34:45 +0000] [237] [INFO] Shutting down: Master\n"
          ]
        }
      ]
    },
    {
      "cell_type": "code",
      "source": [
        ""
      ],
      "metadata": {
        "id": "dIrvG1plJhPa"
      },
      "execution_count": null,
      "outputs": []
    }
  ]
}